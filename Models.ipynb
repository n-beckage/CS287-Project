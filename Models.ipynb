{
 "cells": [
  {
   "cell_type": "code",
   "execution_count": 1,
   "id": "a20d86d1",
   "metadata": {},
   "outputs": [],
   "source": [
    "import numpy as np\n",
    "import pandas as pd\n",
    "import matplotlib.pyplot as plt\n",
    "import statsmodels.api as sm\n",
    "from sklearn.model_selection import train_test_split\n",
    "from sklearn.linear_model import LinearRegression\n",
    "from sklearn.linear_model import LogisticRegression\n",
    "from sklearn.preprocessing import normalize\n",
    "from sklearn.preprocessing import MaxAbsScaler\n",
    "from sklearn import metrics\n",
    "import seaborn as sns"
   ]
  },
  {
   "cell_type": "code",
   "execution_count": 2,
   "id": "c370adba",
   "metadata": {},
   "outputs": [
    {
     "data": {
      "text/html": [
       "<div>\n",
       "<style scoped>\n",
       "    .dataframe tbody tr th:only-of-type {\n",
       "        vertical-align: middle;\n",
       "    }\n",
       "\n",
       "    .dataframe tbody tr th {\n",
       "        vertical-align: top;\n",
       "    }\n",
       "\n",
       "    .dataframe thead th {\n",
       "        text-align: right;\n",
       "    }\n",
       "</style>\n",
       "<table border=\"1\" class=\"dataframe\">\n",
       "  <thead>\n",
       "    <tr style=\"text-align: right;\">\n",
       "      <th></th>\n",
       "      <th>SMILES</th>\n",
       "      <th>GPCR_act</th>\n",
       "      <th>MR</th>\n",
       "      <th>ATOM</th>\n",
       "      <th>MW</th>\n",
       "      <th>ALOGP</th>\n",
       "      <th>HBA</th>\n",
       "      <th>HBD</th>\n",
       "      <th>PSA</th>\n",
       "      <th>ROTB</th>\n",
       "      <th>AROM</th>\n",
       "      <th>ALERTS</th>\n",
       "      <th>QED</th>\n",
       "      <th>Lipinski_Drug-like</th>\n",
       "      <th>Lipinski_Not Drug-like</th>\n",
       "      <th>Veber_Drug-like</th>\n",
       "      <th>Veber_Not Drug-like</th>\n",
       "      <th>Ghose_Drug-like</th>\n",
       "      <th>Ghose_Not Drug-like</th>\n",
       "    </tr>\n",
       "  </thead>\n",
       "  <tbody>\n",
       "    <tr>\n",
       "      <th>0</th>\n",
       "      <td>[H]c1nc(C([H])(C#N)c2nc3c([H])c([H])c([H])c([H...</td>\n",
       "      <td>0.251053</td>\n",
       "      <td>79.0614</td>\n",
       "      <td>22</td>\n",
       "      <td>293.286</td>\n",
       "      <td>2.53198</td>\n",
       "      <td>5.0</td>\n",
       "      <td>0.0</td>\n",
       "      <td>97.64</td>\n",
       "      <td>3.0</td>\n",
       "      <td>3.0</td>\n",
       "      <td>2.0</td>\n",
       "      <td>0.545599</td>\n",
       "      <td>1</td>\n",
       "      <td>0</td>\n",
       "      <td>1</td>\n",
       "      <td>0</td>\n",
       "      <td>1</td>\n",
       "      <td>0</td>\n",
       "    </tr>\n",
       "    <tr>\n",
       "      <th>1</th>\n",
       "      <td>[H]c1c([H])c(-n2c(=O)n3n(c2=O)C([H])([H])C([H]...</td>\n",
       "      <td>0.129006</td>\n",
       "      <td>63.4810</td>\n",
       "      <td>18</td>\n",
       "      <td>249.245</td>\n",
       "      <td>0.73360</td>\n",
       "      <td>2.0</td>\n",
       "      <td>0.0</td>\n",
       "      <td>48.93</td>\n",
       "      <td>1.0</td>\n",
       "      <td>2.0</td>\n",
       "      <td>0.0</td>\n",
       "      <td>0.747875</td>\n",
       "      <td>1</td>\n",
       "      <td>0</td>\n",
       "      <td>1</td>\n",
       "      <td>0</td>\n",
       "      <td>0</td>\n",
       "      <td>1</td>\n",
       "    </tr>\n",
       "    <tr>\n",
       "      <th>2</th>\n",
       "      <td>[H]O[C@]1(c2c([H])oc([H])c2[H])OC(=O)C([H])=C2...</td>\n",
       "      <td>0.798935</td>\n",
       "      <td>125.4138</td>\n",
       "      <td>35</td>\n",
       "      <td>482.573</td>\n",
       "      <td>4.45350</td>\n",
       "      <td>7.0</td>\n",
       "      <td>1.0</td>\n",
       "      <td>103.04</td>\n",
       "      <td>2.0</td>\n",
       "      <td>1.0</td>\n",
       "      <td>1.0</td>\n",
       "      <td>0.621189</td>\n",
       "      <td>1</td>\n",
       "      <td>0</td>\n",
       "      <td>1</td>\n",
       "      <td>0</td>\n",
       "      <td>0</td>\n",
       "      <td>1</td>\n",
       "    </tr>\n",
       "    <tr>\n",
       "      <th>3</th>\n",
       "      <td>[H]C1([H])C(=O)N2C([H])([H])[C@]3([H])C([H])([...</td>\n",
       "      <td>0.034461</td>\n",
       "      <td>70.1610</td>\n",
       "      <td>18</td>\n",
       "      <td>248.370</td>\n",
       "      <td>1.87170</td>\n",
       "      <td>2.0</td>\n",
       "      <td>0.0</td>\n",
       "      <td>23.55</td>\n",
       "      <td>0.0</td>\n",
       "      <td>0.0</td>\n",
       "      <td>0.0</td>\n",
       "      <td>0.653212</td>\n",
       "      <td>1</td>\n",
       "      <td>0</td>\n",
       "      <td>1</td>\n",
       "      <td>0</td>\n",
       "      <td>0</td>\n",
       "      <td>1</td>\n",
       "    </tr>\n",
       "    <tr>\n",
       "      <th>4</th>\n",
       "      <td>[H]OC1([H])C([H])(c2c([H])nn([H])c2C(=O)N([H])...</td>\n",
       "      <td>0.064913</td>\n",
       "      <td>50.9694</td>\n",
       "      <td>15</td>\n",
       "      <td>211.221</td>\n",
       "      <td>-0.42310</td>\n",
       "      <td>4.0</td>\n",
       "      <td>3.0</td>\n",
       "      <td>101.23</td>\n",
       "      <td>2.0</td>\n",
       "      <td>1.0</td>\n",
       "      <td>0.0</td>\n",
       "      <td>0.617763</td>\n",
       "      <td>1</td>\n",
       "      <td>0</td>\n",
       "      <td>1</td>\n",
       "      <td>0</td>\n",
       "      <td>0</td>\n",
       "      <td>1</td>\n",
       "    </tr>\n",
       "    <tr>\n",
       "      <th>...</th>\n",
       "      <td>...</td>\n",
       "      <td>...</td>\n",
       "      <td>...</td>\n",
       "      <td>...</td>\n",
       "      <td>...</td>\n",
       "      <td>...</td>\n",
       "      <td>...</td>\n",
       "      <td>...</td>\n",
       "      <td>...</td>\n",
       "      <td>...</td>\n",
       "      <td>...</td>\n",
       "      <td>...</td>\n",
       "      <td>...</td>\n",
       "      <td>...</td>\n",
       "      <td>...</td>\n",
       "      <td>...</td>\n",
       "      <td>...</td>\n",
       "      <td>...</td>\n",
       "      <td>...</td>\n",
       "    </tr>\n",
       "    <tr>\n",
       "      <th>88873</th>\n",
       "      <td>[H]OC([H])([H])C1=C([H])C([H])([H])[C@]2([H])C...</td>\n",
       "      <td>0.925964</td>\n",
       "      <td>88.2856</td>\n",
       "      <td>22</td>\n",
       "      <td>304.474</td>\n",
       "      <td>3.91860</td>\n",
       "      <td>2.0</td>\n",
       "      <td>2.0</td>\n",
       "      <td>40.46</td>\n",
       "      <td>1.0</td>\n",
       "      <td>0.0</td>\n",
       "      <td>1.0</td>\n",
       "      <td>0.720902</td>\n",
       "      <td>1</td>\n",
       "      <td>0</td>\n",
       "      <td>1</td>\n",
       "      <td>0</td>\n",
       "      <td>1</td>\n",
       "      <td>0</td>\n",
       "    </tr>\n",
       "    <tr>\n",
       "      <th>88874</th>\n",
       "      <td>[H]OC(=O)C([H])([H])N([H])C(=O)C1(N([H])C(=O)C...</td>\n",
       "      <td>0.113655</td>\n",
       "      <td>59.0416</td>\n",
       "      <td>17</td>\n",
       "      <td>243.263</td>\n",
       "      <td>-1.42510</td>\n",
       "      <td>5.0</td>\n",
       "      <td>4.0</td>\n",
       "      <td>121.52</td>\n",
       "      <td>5.0</td>\n",
       "      <td>0.0</td>\n",
       "      <td>0.0</td>\n",
       "      <td>0.471624</td>\n",
       "      <td>1</td>\n",
       "      <td>0</td>\n",
       "      <td>1</td>\n",
       "      <td>0</td>\n",
       "      <td>0</td>\n",
       "      <td>1</td>\n",
       "    </tr>\n",
       "    <tr>\n",
       "      <th>88875</th>\n",
       "      <td>[H]OC(=O)c1c([H])n(O[H])c([H])c([H])/c1=N\\c1c(...</td>\n",
       "      <td>0.271177</td>\n",
       "      <td>60.2408</td>\n",
       "      <td>17</td>\n",
       "      <td>230.223</td>\n",
       "      <td>1.65600</td>\n",
       "      <td>3.0</td>\n",
       "      <td>2.0</td>\n",
       "      <td>74.82</td>\n",
       "      <td>2.0</td>\n",
       "      <td>2.0</td>\n",
       "      <td>1.0</td>\n",
       "      <td>0.770170</td>\n",
       "      <td>1</td>\n",
       "      <td>0</td>\n",
       "      <td>1</td>\n",
       "      <td>0</td>\n",
       "      <td>0</td>\n",
       "      <td>1</td>\n",
       "    </tr>\n",
       "    <tr>\n",
       "      <th>88876</th>\n",
       "      <td>[H]c1c([H])c([H])c(S(=O)(=O)On2c(=O)c3sc(C([H]...</td>\n",
       "      <td>0.250121</td>\n",
       "      <td>79.4455</td>\n",
       "      <td>22</td>\n",
       "      <td>339.354</td>\n",
       "      <td>0.27222</td>\n",
       "      <td>6.0</td>\n",
       "      <td>1.0</td>\n",
       "      <td>111.12</td>\n",
       "      <td>3.0</td>\n",
       "      <td>3.0</td>\n",
       "      <td>0.0</td>\n",
       "      <td>0.733170</td>\n",
       "      <td>1</td>\n",
       "      <td>0</td>\n",
       "      <td>1</td>\n",
       "      <td>0</td>\n",
       "      <td>1</td>\n",
       "      <td>0</td>\n",
       "    </tr>\n",
       "    <tr>\n",
       "      <th>88877</th>\n",
       "      <td>[H]c1c([H])c(S(=O)(=O)OC2([H])C(C([H])([H])[H]...</td>\n",
       "      <td>0.049145</td>\n",
       "      <td>75.8068</td>\n",
       "      <td>20</td>\n",
       "      <td>296.388</td>\n",
       "      <td>2.70402</td>\n",
       "      <td>4.0</td>\n",
       "      <td>0.0</td>\n",
       "      <td>60.44</td>\n",
       "      <td>3.0</td>\n",
       "      <td>1.0</td>\n",
       "      <td>1.0</td>\n",
       "      <td>0.804640</td>\n",
       "      <td>1</td>\n",
       "      <td>0</td>\n",
       "      <td>1</td>\n",
       "      <td>0</td>\n",
       "      <td>0</td>\n",
       "      <td>1</td>\n",
       "    </tr>\n",
       "  </tbody>\n",
       "</table>\n",
       "<p>88878 rows × 19 columns</p>\n",
       "</div>"
      ],
      "text/plain": [
       "                                                  SMILES  GPCR_act        MR  \\\n",
       "0      [H]c1nc(C([H])(C#N)c2nc3c([H])c([H])c([H])c([H...  0.251053   79.0614   \n",
       "1      [H]c1c([H])c(-n2c(=O)n3n(c2=O)C([H])([H])C([H]...  0.129006   63.4810   \n",
       "2      [H]O[C@]1(c2c([H])oc([H])c2[H])OC(=O)C([H])=C2...  0.798935  125.4138   \n",
       "3      [H]C1([H])C(=O)N2C([H])([H])[C@]3([H])C([H])([...  0.034461   70.1610   \n",
       "4      [H]OC1([H])C([H])(c2c([H])nn([H])c2C(=O)N([H])...  0.064913   50.9694   \n",
       "...                                                  ...       ...       ...   \n",
       "88873  [H]OC([H])([H])C1=C([H])C([H])([H])[C@]2([H])C...  0.925964   88.2856   \n",
       "88874  [H]OC(=O)C([H])([H])N([H])C(=O)C1(N([H])C(=O)C...  0.113655   59.0416   \n",
       "88875  [H]OC(=O)c1c([H])n(O[H])c([H])c([H])/c1=N\\c1c(...  0.271177   60.2408   \n",
       "88876  [H]c1c([H])c([H])c(S(=O)(=O)On2c(=O)c3sc(C([H]...  0.250121   79.4455   \n",
       "88877  [H]c1c([H])c(S(=O)(=O)OC2([H])C(C([H])([H])[H]...  0.049145   75.8068   \n",
       "\n",
       "       ATOM       MW    ALOGP  HBA  HBD     PSA  ROTB  AROM  ALERTS       QED  \\\n",
       "0        22  293.286  2.53198  5.0  0.0   97.64   3.0   3.0     2.0  0.545599   \n",
       "1        18  249.245  0.73360  2.0  0.0   48.93   1.0   2.0     0.0  0.747875   \n",
       "2        35  482.573  4.45350  7.0  1.0  103.04   2.0   1.0     1.0  0.621189   \n",
       "3        18  248.370  1.87170  2.0  0.0   23.55   0.0   0.0     0.0  0.653212   \n",
       "4        15  211.221 -0.42310  4.0  3.0  101.23   2.0   1.0     0.0  0.617763   \n",
       "...     ...      ...      ...  ...  ...     ...   ...   ...     ...       ...   \n",
       "88873    22  304.474  3.91860  2.0  2.0   40.46   1.0   0.0     1.0  0.720902   \n",
       "88874    17  243.263 -1.42510  5.0  4.0  121.52   5.0   0.0     0.0  0.471624   \n",
       "88875    17  230.223  1.65600  3.0  2.0   74.82   2.0   2.0     1.0  0.770170   \n",
       "88876    22  339.354  0.27222  6.0  1.0  111.12   3.0   3.0     0.0  0.733170   \n",
       "88877    20  296.388  2.70402  4.0  0.0   60.44   3.0   1.0     1.0  0.804640   \n",
       "\n",
       "       Lipinski_Drug-like  Lipinski_Not Drug-like  Veber_Drug-like  \\\n",
       "0                       1                       0                1   \n",
       "1                       1                       0                1   \n",
       "2                       1                       0                1   \n",
       "3                       1                       0                1   \n",
       "4                       1                       0                1   \n",
       "...                   ...                     ...              ...   \n",
       "88873                   1                       0                1   \n",
       "88874                   1                       0                1   \n",
       "88875                   1                       0                1   \n",
       "88876                   1                       0                1   \n",
       "88877                   1                       0                1   \n",
       "\n",
       "       Veber_Not Drug-like  Ghose_Drug-like  Ghose_Not Drug-like  \n",
       "0                        0                1                    0  \n",
       "1                        0                0                    1  \n",
       "2                        0                0                    1  \n",
       "3                        0                0                    1  \n",
       "4                        0                0                    1  \n",
       "...                    ...              ...                  ...  \n",
       "88873                    0                1                    0  \n",
       "88874                    0                0                    1  \n",
       "88875                    0                0                    1  \n",
       "88876                    0                1                    0  \n",
       "88877                    0                0                    1  \n",
       "\n",
       "[88878 rows x 19 columns]"
      ]
     },
     "execution_count": 2,
     "metadata": {},
     "output_type": "execute_result"
    }
   ],
   "source": [
    "df=pd.read_csv(\"data/ModelData.csv\")\n",
    "df"
   ]
  },
  {
   "cell_type": "markdown",
   "id": "14a3c83e",
   "metadata": {},
   "source": [
    "# GLM"
   ]
  },
  {
   "cell_type": "markdown",
   "id": "242293d1",
   "metadata": {},
   "source": [
    "### Model 1: Just molecular features\n",
    "\n",
    "For the first model - only the 10 molecular features as predictors"
   ]
  },
  {
   "cell_type": "markdown",
   "id": "2f378a04",
   "metadata": {},
   "source": [
    "#### Normalizing and Splitting Data"
   ]
  },
  {
   "cell_type": "code",
   "execution_count": 3,
   "id": "c18aff32",
   "metadata": {},
   "outputs": [],
   "source": [
    "X_mol = df.filter(['MR', 'ATOM', 'MW', 'ALOGP', 'HBA', 'HBD', 'PSA', 'ROTB', 'AROM', 'ALERTS']).copy()\n",
    "y = df['GPCR_act']\n",
    "\n",
    "# normalizing X_mol\n",
    "norm_X_mol = normalize(X_mol, axis = 0)\n",
    "\n",
    "# Split data into training, validating, testing (80:10:10)\n",
    "train_size=0.8\n",
    "\n",
    "# This splits the training data (.8) and the remaining data\n",
    "X_mol_train, X_mol_rem, y_train, y_rem = train_test_split(norm_X_mol, y, train_size=0.8)\n",
    "\n",
    "# split the remaining data 50/50 for validation and testing\n",
    "test_size = 0.5\n",
    "\n",
    "# Splitting the remaining .2 of the data into test and validation\n",
    "X_mol_valid, X_mol_test, y_valid, y_test = train_test_split(X_mol_rem, y_rem, test_size=0.5)"
   ]
  },
  {
   "cell_type": "markdown",
   "id": "54cf01b8",
   "metadata": {},
   "source": [
    "#### Creating the Model"
   ]
  },
  {
   "cell_type": "code",
   "execution_count": 4,
   "id": "f52d3a94",
   "metadata": {},
   "outputs": [
    {
     "data": {
      "text/plain": [
       "0.07138924780674283"
      ]
     },
     "execution_count": 4,
     "metadata": {},
     "output_type": "execute_result"
    }
   ],
   "source": [
    "# Making the GLM model with 10 molecular features as preditors (no drug-likeness)\n",
    "reg = LinearRegression().fit(X_mol_train, y_train)\n",
    "\n",
    "# returns the coefficient of determination, aka R-squared value\n",
    "reg.score(X_mol_train,y_train)\n",
    "\n",
    "# get the coefficients and intercept of our model\n",
    "reg.coef_\n",
    "reg.intercept_"
   ]
  },
  {
   "cell_type": "markdown",
   "id": "b33e8631",
   "metadata": {},
   "source": [
    "#### Plotting Model Performance"
   ]
  },
  {
   "cell_type": "code",
   "execution_count": 5,
   "id": "00c7a93d",
   "metadata": {},
   "outputs": [],
   "source": [
    "# Graph model predictions vs actual activity scores\n",
    "preds=reg.predict(X_mol_valid)\n",
    "len(preds)==len(y_valid)\n",
    "\n",
    "# reshape arrays b/c god knows why\n",
    "y_valid=np.array(y_valid).reshape(-1,1)\n",
    "preds=preds.reshape(-1,1)\n",
    "\n",
    "# finding the mean abs error\n",
    "mae=[]\n",
    "for i in range(0,len(preds)):\n",
    "    mae.append(metrics.mean_absolute_error(y_valid[i],preds[i]))"
   ]
  },
  {
   "cell_type": "code",
   "execution_count": 6,
   "id": "f15f709c",
   "metadata": {},
   "outputs": [
    {
     "data": {
      "image/png": "[encoded data removed]",
      "text/plain": [
       "<Figure size 648x432 with 1 Axes>"
      ]
     },
     "metadata": {
      "needs_background": "light"
     },
     "output_type": "display_data"
    }
   ],
   "source": [
    "# Making a MAE plot\n",
    "plt.figure(figsize=(9,6))\n",
    "plt.xlabel(\"Activity Score\")\n",
    "plt.ylabel(\"MAE\")\n",
    "mae_plot=plt.scatter(x=y_valid,y=mae)"
   ]
  },
  {
   "cell_type": "code",
   "execution_count": 7,
   "id": "8df702d3",
   "metadata": {},
   "outputs": [
    {
     "data": {
      "image/png": "[encoded data removed]",
      "text/plain": [
       "<Figure size 648x432 with 1 Axes>"
      ]
     },
     "metadata": {
      "needs_background": "light"
     },
     "output_type": "display_data"
    }
   ],
   "source": [
    "# Making a residual plot\n",
    "resid=y_valid-preds\n",
    "plt.figure(figsize=(9,6))\n",
    "plt.axhline(y=0,color='red')\n",
    "plt.xlabel(\"Activity Score\")\n",
    "plt.ylabel(\"Residual\")\n",
    "res_plot=plt.scatter(x=y_valid,y=resid)"
   ]
  },
  {
   "cell_type": "markdown",
   "id": "2aa278c4",
   "metadata": {},
   "source": [
    "### Model 2 : Just Drug-Likeness Features"
   ]
  },
  {
   "cell_type": "markdown",
   "id": "a5b85394",
   "metadata": {},
   "source": [
    "#### Splitting Data"
   ]
  },
  {
   "cell_type": "code",
   "execution_count": 8,
   "id": "abb191f2",
   "metadata": {},
   "outputs": [],
   "source": [
    "# Split data first\n",
    "X_dl = df.drop(['SMILES', 'GPCR_act','MR', 'ATOM', 'MW', 'ALOGP', 'HBA', 'HBD', 'PSA', 'ROTB', 'AROM', 'ALERTS'], axis = 1)\n",
    "y = df['GPCR_act']\n",
    "\n",
    "# Split data into training, validating, testing (80:10:10)\n",
    "train_size=0.8\n",
    "\n",
    "# This splits the training data (.8) and the remaining data\n",
    "X_dl_train, X_dl_rem, y_train, y_rem = train_test_split(X_dl, y, train_size=0.8)\n",
    "\n",
    "# split the remaining data 50/50 for validation and testing\n",
    "test_size = 0.5\n",
    "\n",
    "# Splitting the remaining .2 of the data into test and validation\n",
    "X_dl_valid, X_dl_test, y_valid, y_test = train_test_split(X_dl_rem, y_rem, test_size=0.5)"
   ]
  },
  {
   "cell_type": "code",
   "execution_count": 9,
   "id": "c5aa2a31",
   "metadata": {},
   "outputs": [
    {
     "data": {
      "text/html": [
       "<div>\n",
       "<style scoped>\n",
       "    .dataframe tbody tr th:only-of-type {\n",
       "        vertical-align: middle;\n",
       "    }\n",
       "\n",
       "    .dataframe tbody tr th {\n",
       "        vertical-align: top;\n",
       "    }\n",
       "\n",
       "    .dataframe thead th {\n",
       "        text-align: right;\n",
       "    }\n",
       "</style>\n",
       "<table border=\"1\" class=\"dataframe\">\n",
       "  <thead>\n",
       "    <tr style=\"text-align: right;\">\n",
       "      <th></th>\n",
       "      <th>QED</th>\n",
       "      <th>Lipinski_Drug-like</th>\n",
       "      <th>Lipinski_Not Drug-like</th>\n",
       "      <th>Veber_Drug-like</th>\n",
       "      <th>Veber_Not Drug-like</th>\n",
       "      <th>Ghose_Drug-like</th>\n",
       "      <th>Ghose_Not Drug-like</th>\n",
       "    </tr>\n",
       "  </thead>\n",
       "  <tbody>\n",
       "    <tr>\n",
       "      <th>0</th>\n",
       "      <td>0.545599</td>\n",
       "      <td>1</td>\n",
       "      <td>0</td>\n",
       "      <td>1</td>\n",
       "      <td>0</td>\n",
       "      <td>1</td>\n",
       "      <td>0</td>\n",
       "    </tr>\n",
       "    <tr>\n",
       "      <th>1</th>\n",
       "      <td>0.747875</td>\n",
       "      <td>1</td>\n",
       "      <td>0</td>\n",
       "      <td>1</td>\n",
       "      <td>0</td>\n",
       "      <td>0</td>\n",
       "      <td>1</td>\n",
       "    </tr>\n",
       "    <tr>\n",
       "      <th>2</th>\n",
       "      <td>0.621189</td>\n",
       "      <td>1</td>\n",
       "      <td>0</td>\n",
       "      <td>1</td>\n",
       "      <td>0</td>\n",
       "      <td>0</td>\n",
       "      <td>1</td>\n",
       "    </tr>\n",
       "    <tr>\n",
       "      <th>3</th>\n",
       "      <td>0.653212</td>\n",
       "      <td>1</td>\n",
       "      <td>0</td>\n",
       "      <td>1</td>\n",
       "      <td>0</td>\n",
       "      <td>0</td>\n",
       "      <td>1</td>\n",
       "    </tr>\n",
       "    <tr>\n",
       "      <th>4</th>\n",
       "      <td>0.617763</td>\n",
       "      <td>1</td>\n",
       "      <td>0</td>\n",
       "      <td>1</td>\n",
       "      <td>0</td>\n",
       "      <td>0</td>\n",
       "      <td>1</td>\n",
       "    </tr>\n",
       "    <tr>\n",
       "      <th>...</th>\n",
       "      <td>...</td>\n",
       "      <td>...</td>\n",
       "      <td>...</td>\n",
       "      <td>...</td>\n",
       "      <td>...</td>\n",
       "      <td>...</td>\n",
       "      <td>...</td>\n",
       "    </tr>\n",
       "    <tr>\n",
       "      <th>88873</th>\n",
       "      <td>0.720902</td>\n",
       "      <td>1</td>\n",
       "      <td>0</td>\n",
       "      <td>1</td>\n",
       "      <td>0</td>\n",
       "      <td>1</td>\n",
       "      <td>0</td>\n",
       "    </tr>\n",
       "    <tr>\n",
       "      <th>88874</th>\n",
       "      <td>0.471624</td>\n",
       "      <td>1</td>\n",
       "      <td>0</td>\n",
       "      <td>1</td>\n",
       "      <td>0</td>\n",
       "      <td>0</td>\n",
       "      <td>1</td>\n",
       "    </tr>\n",
       "    <tr>\n",
       "      <th>88875</th>\n",
       "      <td>0.770170</td>\n",
       "      <td>1</td>\n",
       "      <td>0</td>\n",
       "      <td>1</td>\n",
       "      <td>0</td>\n",
       "      <td>0</td>\n",
       "      <td>1</td>\n",
       "    </tr>\n",
       "    <tr>\n",
       "      <th>88876</th>\n",
       "      <td>0.733170</td>\n",
       "      <td>1</td>\n",
       "      <td>0</td>\n",
       "      <td>1</td>\n",
       "      <td>0</td>\n",
       "      <td>1</td>\n",
       "      <td>0</td>\n",
       "    </tr>\n",
       "    <tr>\n",
       "      <th>88877</th>\n",
       "      <td>0.804640</td>\n",
       "      <td>1</td>\n",
       "      <td>0</td>\n",
       "      <td>1</td>\n",
       "      <td>0</td>\n",
       "      <td>0</td>\n",
       "      <td>1</td>\n",
       "    </tr>\n",
       "  </tbody>\n",
       "</table>\n",
       "<p>88878 rows × 7 columns</p>\n",
       "</div>"
      ],
      "text/plain": [
       "            QED  Lipinski_Drug-like  Lipinski_Not Drug-like  Veber_Drug-like  \\\n",
       "0      0.545599                   1                       0                1   \n",
       "1      0.747875                   1                       0                1   \n",
       "2      0.621189                   1                       0                1   \n",
       "3      0.653212                   1                       0                1   \n",
       "4      0.617763                   1                       0                1   \n",
       "...         ...                 ...                     ...              ...   \n",
       "88873  0.720902                   1                       0                1   \n",
       "88874  0.471624                   1                       0                1   \n",
       "88875  0.770170                   1                       0                1   \n",
       "88876  0.733170                   1                       0                1   \n",
       "88877  0.804640                   1                       0                1   \n",
       "\n",
       "       Veber_Not Drug-like  Ghose_Drug-like  Ghose_Not Drug-like  \n",
       "0                        0                1                    0  \n",
       "1                        0                0                    1  \n",
       "2                        0                0                    1  \n",
       "3                        0                0                    1  \n",
       "4                        0                0                    1  \n",
       "...                    ...              ...                  ...  \n",
       "88873                    0                1                    0  \n",
       "88874                    0                0                    1  \n",
       "88875                    0                0                    1  \n",
       "88876                    0                1                    0  \n",
       "88877                    0                0                    1  \n",
       "\n",
       "[88878 rows x 7 columns]"
      ]
     },
     "execution_count": 9,
     "metadata": {},
     "output_type": "execute_result"
    }
   ],
   "source": [
    "X_dl"
   ]
  },
  {
   "cell_type": "markdown",
   "id": "2c68bc90",
   "metadata": {},
   "source": [
    "#### Creating the Model"
   ]
  },
  {
   "cell_type": "code",
   "execution_count": 10,
   "id": "987cdbad",
   "metadata": {},
   "outputs": [
    {
     "data": {
      "text/plain": [
       "1829151525751.757"
      ]
     },
     "execution_count": 10,
     "metadata": {},
     "output_type": "execute_result"
    }
   ],
   "source": [
    "# Making the GLM model with 10 molecular features as preditors (no drug-likeness)\n",
    "reg2 = LinearRegression().fit(X_dl_train, y_train)\n",
    "\n",
    "# returns the coefficient of determination, aka R-squared value\n",
    "reg2.score(X_dl_train,y_train)\n",
    "\n",
    "# get the coefficients and intercept of our model\n",
    "reg2.coef_\n",
    "reg2.intercept_"
   ]
  },
  {
   "cell_type": "markdown",
   "id": "81c5afae",
   "metadata": {},
   "source": [
    "#### Plotting Model Performance"
   ]
  },
  {
   "cell_type": "code",
   "execution_count": 11,
   "id": "bf5a9d22",
   "metadata": {},
   "outputs": [],
   "source": [
    "# Graph model predictions vs actual activity scores\n",
    "preds2=reg2.predict(X_dl_valid)\n",
    "len(preds)==len(y_valid)\n",
    "\n",
    "# reshape arrays b/c god knows why\n",
    "y_valid=np.array(y_valid).reshape(-1,1)\n",
    "preds2=preds2.reshape(-1,1)\n",
    "\n",
    "# finding the mean abs error\n",
    "mae2=[]\n",
    "for i in range(0,len(preds2)):\n",
    "    mae2.append(metrics.mean_absolute_error(y_valid[i],preds2[i]))"
   ]
  },
  {
   "cell_type": "code",
   "execution_count": 12,
   "id": "92206a9b",
   "metadata": {},
   "outputs": [
    {
     "data": {
      "image/png": "[encoded data removed]",
      "text/plain": [
       "<Figure size 648x432 with 1 Axes>"
      ]
     },
     "metadata": {
      "needs_background": "light"
     },
     "output_type": "display_data"
    }
   ],
   "source": [
    "# Making a MAE plot\n",
    "plt.figure(figsize=(9,6))\n",
    "plt.xlabel(\"Activity Score\")\n",
    "plt.ylabel(\"MAE\")\n",
    "mae_plot=plt.scatter(x=y_valid,y=mae2)"
   ]
  },
  {
   "cell_type": "code",
   "execution_count": 13,
   "id": "fcf734f7",
   "metadata": {},
   "outputs": [
    {
     "data": {
      "image/png": "[encoded data removed]",
      "text/plain": [
       "<Figure size 648x432 with 1 Axes>"
      ]
     },
     "metadata": {
      "needs_background": "light"
     },
     "output_type": "display_data"
    }
   ],
   "source": [
    "# making a residual plot\n",
    "resid2=y_valid-preds2\n",
    "plt.figure(figsize=(9,6))\n",
    "plt.axhline(y=0,color='red')\n",
    "plt.xlabel(\"Activity Score\")\n",
    "plt.ylabel(\"Residual\")\n",
    "res_plot=plt.scatter(x=y_valid,y=resid2)"
   ]
  },
  {
   "cell_type": "markdown",
   "id": "14dad459",
   "metadata": {},
   "source": [
    "# Random Forest\n",
    "Built to predict the actual value of GPCR_act; includes dummy variables for drug-likeness"
   ]
  },
  {
   "cell_type": "code",
   "execution_count": 14,
   "id": "4c02d202",
   "metadata": {},
   "outputs": [],
   "source": [
    "labels=np.array(df['GPCR_act'])\n",
    "\n",
    "df_features=df.drop(['GPCR_act','SMILES'],axis=1)\n",
    "\n",
    "features_list=list(df.columns)\n",
    "features_list.remove('GPCR_act')\n",
    "features_list.remove('SMILES')\n",
    "\n",
    "features_arr=np.array(df_features)"
   ]
  },
  {
   "cell_type": "code",
   "execution_count": 15,
   "id": "94b3973e",
   "metadata": {},
   "outputs": [],
   "source": [
    "# Split the data into training and testing sets\n",
    "train_features, test_features, train_labels, test_labels = train_test_split(features_arr, labels, test_size = 0.25, random_state = 42)"
   ]
  },
  {
   "cell_type": "code",
   "execution_count": 16,
   "id": "51203619",
   "metadata": {},
   "outputs": [
    {
     "name": "stdout",
     "output_type": "stream",
     "text": [
      "Training Features Shape: (66658, 17)\n",
      "Training Labels Shape: (66658,)\n",
      "Testing Features Shape: (22220, 17)\n",
      "Testing Labels Shape: (22220,)\n"
     ]
    }
   ],
   "source": [
    "print('Training Features Shape:', train_features.shape)\n",
    "print('Training Labels Shape:', train_labels.shape)\n",
    "print('Testing Features Shape:', test_features.shape)\n",
    "print('Testing Labels Shape:', test_labels.shape)"
   ]
  },
  {
   "cell_type": "code",
   "execution_count": 17,
   "id": "315dab8c",
   "metadata": {},
   "outputs": [
    {
     "name": "stdout",
     "output_type": "stream",
     "text": [
      "Average baseline error:  0.28\n"
     ]
    }
   ],
   "source": [
    "# The baseline predictions are the historical averages\n",
    "baseline_preds = labels.mean()\n",
    "# Baseline errors, and display average baseline error\n",
    "baseline_errors = abs(baseline_preds - test_labels)\n",
    "print('Average baseline error: ', round(np.mean(baseline_errors), 2))"
   ]
  },
  {
   "cell_type": "code",
   "execution_count": 18,
   "id": "f100ea98",
   "metadata": {},
   "outputs": [],
   "source": [
    "# Import the model we are using\n",
    "from sklearn.ensemble import RandomForestRegressor\n",
    "# Instantiate model with 1000 decision trees\n",
    "rf = RandomForestRegressor(n_estimators = 100, random_state = 42)\n",
    "# Train the model on training data\n",
    "rf.fit(train_features, train_labels);"
   ]
  },
  {
   "cell_type": "code",
   "execution_count": 19,
   "id": "3352e364",
   "metadata": {},
   "outputs": [
    {
     "name": "stdout",
     "output_type": "stream",
     "text": [
      "Mean Absolute Error: 0.23\n"
     ]
    }
   ],
   "source": [
    "# Use the forest's predict method on the test data\n",
    "predictions = rf.predict(test_features)\n",
    "# Calculate the absolute errors\n",
    "errors = abs(predictions - test_labels)\n",
    "# Print out the mean absolute error (mae)\n",
    "print('Mean Absolute Error:', round(np.mean(errors), 2))"
   ]
  },
  {
   "cell_type": "code",
   "execution_count": 20,
   "id": "01f8e729",
   "metadata": {},
   "outputs": [
    {
     "name": "stdout",
     "output_type": "stream",
     "text": [
      "Accuracy: -432.04 %.\n"
     ]
    }
   ],
   "source": [
    "# Calculate mean absolute percentage error (MAPE)\n",
    "mape = 100 * (errors / test_labels)\n",
    "# Calculate and display accuracy\n",
    "accuracy = 100 - np.mean(mape)\n",
    "print('Accuracy:', round(accuracy, 2), '%.')"
   ]
  },
  {
   "cell_type": "code",
   "execution_count": 21,
   "id": "ee6951c4",
   "metadata": {},
   "outputs": [
    {
     "name": "stdout",
     "output_type": "stream",
     "text": [
      "Model accuracy: 22.01916438332513 %\n"
     ]
    }
   ],
   "source": [
    "print(\"Model accuracy:\",rf.score(test_features,test_labels) * 100,\"%\")"
   ]
  },
  {
   "cell_type": "code",
   "execution_count": 22,
   "id": "6df96b80",
   "metadata": {},
   "outputs": [],
   "source": [
    "# # Import tools needed for visualization\n",
    "# from sklearn.tree import export_graphviz\n",
    "# import pydot\n",
    "# # Pull out one tree from the forest\n",
    "# tree = rf.estimators_[5]\n",
    "# # Import tools needed for visualization\n",
    "# from sklearn.tree import export_graphviz\n",
    "# import pydot\n",
    "# # Pull out one tree from the forest\n",
    "# tree = rf.estimators_[5]\n",
    "# # Export the image to a dot file\n",
    "# export_graphviz(tree, out_file = 'tree.dot', feature_names = features_list, rounded = True, precision = 1)\n",
    "# Use dot file to create a graph\n",
    "#(graph, ) = pydot.graph_from_dot_file('tree.dot')\n",
    "# Write graph to a png file\n",
    "# graph.write_png('tree.png')"
   ]
  },
  {
   "cell_type": "markdown",
   "id": "af3aa304",
   "metadata": {},
   "source": [
    "## Random Forest with Classifiers + No Dummy Variables"
   ]
  },
  {
   "cell_type": "markdown",
   "id": "39db6e85",
   "metadata": {},
   "source": [
    "Continuous variables only; does not include dummy variables for drug-likeness"
   ]
  },
  {
   "cell_type": "code",
   "execution_count": 23,
   "id": "951abe4f",
   "metadata": {},
   "outputs": [],
   "source": [
    "threshold=[]\n",
    "for i in range(0,len(df)):\n",
    "    if df.loc[i,'GPCR_act']>0.5000000000000:\n",
    "        threshold.append(\"Active\")\n",
    "    elif df.loc[i,'GPCR_act']<0.5000000000000:\n",
    "        threshold.append(\"Inactive\")\n",
    "    else: threshold.append(None)\n",
    "       "
   ]
  },
  {
   "cell_type": "code",
   "execution_count": 24,
   "id": "79eb47dc",
   "metadata": {},
   "outputs": [],
   "source": [
    "df_class=df\n",
    "df_class['GPCR_act']=threshold"
   ]
  },
  {
   "cell_type": "code",
   "execution_count": 25,
   "id": "d4784c81",
   "metadata": {},
   "outputs": [],
   "source": [
    "class_labels=np.array(df_class['GPCR_act'])\n",
    "\n",
    "df_class_features=df_class.filter(['MR', 'ATOM', 'MW', 'ALOGP', 'HBA', 'HBD', 'PSA', 'ROTB', 'AROM', 'ALERTS', 'QED'],axis=1)\n",
    "\n",
    "class_features_list=list(df_class_features.columns)\n",
    "\n",
    "class_features_arr=np.array(df_class_features)"
   ]
  },
  {
   "cell_type": "code",
   "execution_count": 26,
   "id": "2c592ea4",
   "metadata": {},
   "outputs": [],
   "source": [
    "# Split the data into training and testing sets\n",
    "cl_train_features, cl_test_features, cl_train_labels, cl_test_labels = train_test_split(class_features_arr, class_labels, test_size = 0.25, random_state = 42)"
   ]
  },
  {
   "cell_type": "code",
   "execution_count": 27,
   "id": "a24197e5",
   "metadata": {},
   "outputs": [
    {
     "name": "stdout",
     "output_type": "stream",
     "text": [
      "Training Features Shape: (66658, 11)\n",
      "Training Labels Shape: (66658,)\n",
      "Testing Features Shape: (22220, 11)\n",
      "Testing Labels Shape: (22220,)\n"
     ]
    }
   ],
   "source": [
    "print('Training Features Shape:', cl_train_features.shape)\n",
    "print('Training Labels Shape:', cl_train_labels.shape)\n",
    "print('Testing Features Shape:', cl_test_features.shape)\n",
    "print('Testing Labels Shape:', cl_test_labels.shape)"
   ]
  },
  {
   "cell_type": "code",
   "execution_count": 28,
   "id": "52df1c9f",
   "metadata": {},
   "outputs": [],
   "source": [
    "# Import the model we are using\n",
    "from sklearn.ensemble import RandomForestClassifier\n",
    "# Instantiate model with 1000 decision trees\n",
    "cl_rf = RandomForestClassifier(n_estimators = 100, random_state = 42)\n",
    "# Train the model on training data\n",
    "cl_rf.fit(cl_train_features, cl_train_labels);"
   ]
  },
  {
   "cell_type": "code",
   "execution_count": 29,
   "id": "e8542896",
   "metadata": {},
   "outputs": [],
   "source": [
    "# Use the forest's predict method on the test data\n",
    "cl_pred = cl_rf.predict(cl_test_features)"
   ]
  },
  {
   "cell_type": "code",
   "execution_count": 30,
   "id": "64e3cd7f",
   "metadata": {},
   "outputs": [
    {
     "name": "stdout",
     "output_type": "stream",
     "text": [
      "Model accuracy: 70.0945094509451 %\n"
     ]
    }
   ],
   "source": [
    "print(\"Model accuracy:\", metrics.accuracy_score(cl_test_labels, cl_pred) * 100, '%')"
   ]
  },
  {
   "cell_type": "code",
   "execution_count": 31,
   "id": "3fdecb9b",
   "metadata": {},
   "outputs": [
    {
     "data": {
      "text/plain": [
       "Text(0.5, 0, 'Random Forest Feature Importance')"
      ]
     },
     "execution_count": 31,
     "metadata": {},
     "output_type": "execute_result"
    },
    {
     "data": {
      "image/png": "[encoded data removed]",
      "text/plain": [
       "<Figure size 432x288 with 1 Axes>"
      ]
     },
     "metadata": {
      "needs_background": "light"
     },
     "output_type": "display_data"
    }
   ],
   "source": [
    "# Get feature importance and create bar plot\n",
    "sorted_idx = cl_rf.feature_importances_.argsort()\n",
    "plt.barh(np.array(class_features_list)[sorted_idx], cl_rf.feature_importances_[sorted_idx])\n",
    "plt.xlabel(\"Random Forest Feature Importance\")"
   ]
  },
  {
   "cell_type": "code",
   "execution_count": 32,
   "id": "20179c22",
   "metadata": {},
   "outputs": [
    {
     "data": {
      "text/html": [
       "<div>\n",
       "<style scoped>\n",
       "    .dataframe tbody tr th:only-of-type {\n",
       "        vertical-align: middle;\n",
       "    }\n",
       "\n",
       "    .dataframe tbody tr th {\n",
       "        vertical-align: top;\n",
       "    }\n",
       "\n",
       "    .dataframe thead th {\n",
       "        text-align: right;\n",
       "    }\n",
       "</style>\n",
       "<table border=\"1\" class=\"dataframe\">\n",
       "  <thead>\n",
       "    <tr style=\"text-align: right;\">\n",
       "      <th></th>\n",
       "      <th>Variable</th>\n",
       "      <th>Importance</th>\n",
       "    </tr>\n",
       "  </thead>\n",
       "  <tbody>\n",
       "    <tr>\n",
       "      <th>0</th>\n",
       "      <td>MR</td>\n",
       "      <td>0.182042</td>\n",
       "    </tr>\n",
       "    <tr>\n",
       "      <th>1</th>\n",
       "      <td>MW</td>\n",
       "      <td>0.143701</td>\n",
       "    </tr>\n",
       "    <tr>\n",
       "      <th>2</th>\n",
       "      <td>ALOGP</td>\n",
       "      <td>0.136971</td>\n",
       "    </tr>\n",
       "    <tr>\n",
       "      <th>3</th>\n",
       "      <td>QED</td>\n",
       "      <td>0.132725</td>\n",
       "    </tr>\n",
       "    <tr>\n",
       "      <th>4</th>\n",
       "      <td>PSA</td>\n",
       "      <td>0.117693</td>\n",
       "    </tr>\n",
       "    <tr>\n",
       "      <th>5</th>\n",
       "      <td>ATOM</td>\n",
       "      <td>0.077152</td>\n",
       "    </tr>\n",
       "    <tr>\n",
       "      <th>6</th>\n",
       "      <td>ROTB</td>\n",
       "      <td>0.067992</td>\n",
       "    </tr>\n",
       "    <tr>\n",
       "      <th>7</th>\n",
       "      <td>HBA</td>\n",
       "      <td>0.046085</td>\n",
       "    </tr>\n",
       "    <tr>\n",
       "      <th>8</th>\n",
       "      <td>AROM</td>\n",
       "      <td>0.034469</td>\n",
       "    </tr>\n",
       "    <tr>\n",
       "      <th>9</th>\n",
       "      <td>HBD</td>\n",
       "      <td>0.032605</td>\n",
       "    </tr>\n",
       "    <tr>\n",
       "      <th>10</th>\n",
       "      <td>ALERTS</td>\n",
       "      <td>0.028565</td>\n",
       "    </tr>\n",
       "  </tbody>\n",
       "</table>\n",
       "</div>"
      ],
      "text/plain": [
       "   Variable  Importance\n",
       "0        MR    0.182042\n",
       "1        MW    0.143701\n",
       "2     ALOGP    0.136971\n",
       "3       QED    0.132725\n",
       "4       PSA    0.117693\n",
       "5      ATOM    0.077152\n",
       "6      ROTB    0.067992\n",
       "7       HBA    0.046085\n",
       "8      AROM    0.034469\n",
       "9       HBD    0.032605\n",
       "10   ALERTS    0.028565"
      ]
     },
     "execution_count": 32,
     "metadata": {},
     "output_type": "execute_result"
    }
   ],
   "source": [
    "# Table of feature importances\n",
    "feat_importance = pd.DataFrame({'Variable': class_features_list,\n",
    "              'Importance': cl_rf.feature_importances_}).sort_values('Importance', ascending=False).reset_index(drop = True)\n",
    "feat_importance"
   ]
  },
  {
   "cell_type": "code",
   "execution_count": 33,
   "id": "bd675db2",
   "metadata": {},
   "outputs": [
    {
     "data": {
      "image/png": "[encoded data removed]",
      "text/plain": [
       "<Figure size 648x648 with 2 Axes>"
      ]
     },
     "metadata": {
      "needs_background": "light"
     },
     "output_type": "display_data"
    }
   ],
   "source": [
    "# Making a nice confusion matrix image\n",
    "cl_score = metrics.accuracy_score(cl_test_labels, cl_pred)\n",
    "cl_cm = metrics.confusion_matrix(cl_test_labels, cl_pred)\n",
    "plt.figure(figsize=(9,9))\n",
    "sns.heatmap(cl_cm, annot=True, fmt=\".3f\", linewidths=.5, square = True, cmap = 'Reds_r');\n",
    "plt.ylabel('Actual label');\n",
    "plt.xlabel('Predicted label');\n",
    "all_sample_title = 'Accuracy Score: {0}'.format(cl_score)\n",
    "plt.title(all_sample_title, size = 15);"
   ]
  },
  {
   "cell_type": "code",
   "execution_count": 34,
   "id": "3d658c17",
   "metadata": {},
   "outputs": [
    {
     "ename": "NameError",
     "evalue": "name 'SVC' is not defined",
     "output_type": "error",
     "traceback": [
      "\u001b[1;31m---------------------------------------------------------------------------\u001b[0m",
      "\u001b[1;31mNameError\u001b[0m                                 Traceback (most recent call last)",
      "\u001b[1;32m~\\AppData\\Local\\Temp/ipykernel_8796/1362500863.py\u001b[0m in \u001b[0;36m<module>\u001b[1;34m\u001b[0m\n\u001b[0;32m      3\u001b[0m \u001b[0mclf\u001b[0m \u001b[1;33m=\u001b[0m \u001b[0msvm\u001b[0m\u001b[1;33m.\u001b[0m\u001b[0mSVC\u001b[0m\u001b[1;33m(\u001b[0m\u001b[0mrandom_state\u001b[0m \u001b[1;33m=\u001b[0m \u001b[1;36m42\u001b[0m\u001b[1;33m)\u001b[0m\u001b[1;33m\u001b[0m\u001b[1;33m\u001b[0m\u001b[0m\n\u001b[0;32m      4\u001b[0m \u001b[0mclf\u001b[0m\u001b[1;33m.\u001b[0m\u001b[0mfit\u001b[0m\u001b[1;33m(\u001b[0m\u001b[0mcl_train_features\u001b[0m\u001b[1;33m,\u001b[0m \u001b[0mcl_train_labels\u001b[0m\u001b[1;33m)\u001b[0m\u001b[1;33m\u001b[0m\u001b[1;33m\u001b[0m\u001b[0m\n\u001b[1;32m----> 5\u001b[1;33m \u001b[0mSVC\u001b[0m\u001b[1;33m(\u001b[0m\u001b[0mrandom_state\u001b[0m \u001b[1;33m=\u001b[0m \u001b[1;36m42\u001b[0m\u001b[1;33m)\u001b[0m\u001b[1;33m\u001b[0m\u001b[1;33m\u001b[0m\u001b[0m\n\u001b[0m\u001b[0;32m      6\u001b[0m \u001b[0mmetrics\u001b[0m\u001b[1;33m.\u001b[0m\u001b[0mplot_roc_curve\u001b[0m\u001b[1;33m(\u001b[0m\u001b[0mclf\u001b[0m\u001b[1;33m,\u001b[0m \u001b[0mcl_test_features\u001b[0m\u001b[1;33m,\u001b[0m \u001b[0mcl_test_labels\u001b[0m\u001b[1;33m)\u001b[0m\u001b[1;33m\u001b[0m\u001b[1;33m\u001b[0m\u001b[0m\n\u001b[0;32m      7\u001b[0m \u001b[0mplt\u001b[0m\u001b[1;33m.\u001b[0m\u001b[0mshow\u001b[0m\u001b[1;33m(\u001b[0m\u001b[1;33m)\u001b[0m\u001b[1;33m\u001b[0m\u001b[1;33m\u001b[0m\u001b[0m\n",
      "\u001b[1;31mNameError\u001b[0m: name 'SVC' is not defined"
     ]
    }
   ],
   "source": [
    "# ROC curve\n",
    "from sklearn import svm\n",
    "clf = svm.SVC(random_state = 42)\n",
    "clf.fit(cl_train_features, cl_train_labels)\n",
    "SVC(random_state = 42)\n",
    "metrics.plot_roc_curve(clf, cl_test_features, cl_test_labels) \n",
    "plt.show()"
   ]
  },
  {
   "cell_type": "markdown",
   "id": "ebdd5a13",
   "metadata": {},
   "source": [
    "## Random Forest with Classifier + Dummy Variables"
   ]
  },
  {
   "cell_type": "markdown",
   "id": "65820e36",
   "metadata": {},
   "source": [
    "Includes continuous features and dummy variables for drug-likeness"
   ]
  },
  {
   "cell_type": "code",
   "execution_count": null,
   "id": "804cb906",
   "metadata": {},
   "outputs": [],
   "source": [
    "d_class_labels=np.array(df_class['GPCR_act'])\n",
    "\n",
    "d_df_class_features=df_class.drop(['SMILES', 'GPCR_act'],axis=1)\n",
    "\n",
    "d_class_features_list=list(d_df_class_features.columns)\n",
    "\n",
    "d_class_features_arr=np.array(d_df_class_features)"
   ]
  },
  {
   "cell_type": "code",
   "execution_count": null,
   "id": "9e072138",
   "metadata": {},
   "outputs": [],
   "source": [
    "# Split the data into training and testing sets\n",
    "d_cl_train_features, d_cl_test_features, d_cl_train_labels, d_cl_test_labels = train_test_split(d_class_features_arr, d_class_labels, test_size = 0.25, random_state = 42)"
   ]
  },
  {
   "cell_type": "code",
   "execution_count": null,
   "id": "619acc9a",
   "metadata": {},
   "outputs": [],
   "source": [
    "print('Training Features Shape:', d_cl_train_features.shape)\n",
    "print('Training Labels Shape:', d_cl_train_labels.shape)\n",
    "print('Testing Features Shape:', d_cl_test_features.shape)\n",
    "print('Testing Labels Shape:', d_cl_test_labels.shape)"
   ]
  },
  {
   "cell_type": "code",
   "execution_count": null,
   "id": "fcd57944",
   "metadata": {},
   "outputs": [],
   "source": [
    "# Import the model we are using\n",
    "from sklearn.ensemble import RandomForestClassifier\n",
    "# Instantiate model with 1000 decision trees\n",
    "d_cl_rf = RandomForestClassifier(n_estimators = 100, random_state = 42)\n",
    "# Train the model on training data\n",
    "d_cl_rf.fit(d_cl_train_features, d_cl_train_labels);"
   ]
  },
  {
   "cell_type": "code",
   "execution_count": null,
   "id": "9ea1fede",
   "metadata": {},
   "outputs": [],
   "source": [
    "# Use the forest's predict method on the test data\n",
    "d_cl_pred = d_cl_rf.predict(d_cl_test_features)"
   ]
  },
  {
   "cell_type": "code",
   "execution_count": null,
   "id": "a490617d",
   "metadata": {},
   "outputs": [],
   "source": [
    "print(\"Model accuracy:\", metrics.accuracy_score(d_cl_test_labels, d_cl_pred) * 100, '%')"
   ]
  },
  {
   "cell_type": "code",
   "execution_count": null,
   "id": "66804ceb",
   "metadata": {},
   "outputs": [],
   "source": [
    "# Get feature importance and create bar plot\n",
    "d_sorted_idx = d_cl_rf.feature_importances_.argsort()\n",
    "plt.barh(np.array(d_class_features_list)[d_sorted_idx], d_cl_rf.feature_importances_[d_sorted_idx])\n",
    "plt.xlabel(\"Random Forest Feature Importance\")"
   ]
  },
  {
   "cell_type": "code",
   "execution_count": null,
   "id": "02a4a965",
   "metadata": {},
   "outputs": [],
   "source": [
    "# Table of feature importances\n",
    "d_feat_importance = pd.DataFrame({'Variable': d_class_features_list,\n",
    "              'Importance': d_cl_rf.feature_importances_}).sort_values('Importance', ascending=False).reset_index(drop = True)\n",
    "d_feat_importance"
   ]
  },
  {
   "cell_type": "code",
   "execution_count": null,
   "id": "f7f77278",
   "metadata": {},
   "outputs": [],
   "source": [
    "# Confusion matrix\n",
    "d_cl_score = metrics.accuracy_score(d_cl_test_labels, d_cl_pred)\n",
    "d_cl_cm = metrics.confusion_matrix(d_cl_test_labels, d_cl_pred)\n",
    "plt.figure(figsize=(9,9))\n",
    "sns.heatmap(cl_cm, annot=True, fmt=\".3f\", linewidths=.5, square = True, cmap = 'Reds_r');\n",
    "plt.ylabel('Actual label');\n",
    "plt.xlabel('Predicted label');\n",
    "all_sample_title = 'Accuracy Score: {0}'.format(d_cl_score)\n",
    "plt.title(all_sample_title, size = 15);"
   ]
  },
  {
   "cell_type": "code",
   "execution_count": null,
   "id": "fcf91c5e",
   "metadata": {},
   "outputs": [],
   "source": [
    "# ROC curve\n",
    "d_clf = svm.SVC(random_state = 42)\n",
    "d_clf.fit(d_cl_train_features, d_cl_train_labels)\n",
    "SVC(random_state = 42)\n",
    "metrics.plot_roc_curve(d_clf, d_cl_test_features, d_cl_test_labels) \n",
    "plt.show()"
   ]
  },
  {
   "cell_type": "markdown",
   "id": "f7c01bed",
   "metadata": {},
   "source": [
    "## Logistic Regression - No Dummy Variables"
   ]
  },
  {
   "cell_type": "code",
   "execution_count": null,
   "id": "f3840b6c",
   "metadata": {},
   "outputs": [],
   "source": [
    "# Splitting the data\n",
    "x_train, x_test, y_train, y_test = train_test_split(class_features_arr, class_labels, test_size = 0.25, random_state = 42)"
   ]
  },
  {
   "cell_type": "code",
   "execution_count": null,
   "id": "5ecceb23",
   "metadata": {},
   "outputs": [],
   "source": [
    "# Fitting the model\n",
    "logisticRegr = LogisticRegression()\n",
    "logisticRegr.fit(x_train, y_train)"
   ]
  },
  {
   "cell_type": "code",
   "execution_count": null,
   "id": "1ae3e1d9",
   "metadata": {},
   "outputs": [],
   "source": [
    "# Make predictions\n",
    "predictions = logisticRegr.predict(x_test)"
   ]
  },
  {
   "cell_type": "code",
   "execution_count": null,
   "id": "7bbb4770",
   "metadata": {},
   "outputs": [],
   "source": [
    "# Using score method to get accuracy of model\n",
    "score = logisticRegr.score(x_test, y_test)\n",
    "print(\"Accuracy:\",score)"
   ]
  },
  {
   "cell_type": "code",
   "execution_count": null,
   "id": "ee1ab7ff",
   "metadata": {},
   "outputs": [],
   "source": [
    "# Making a nice confusion matrix image\n",
    "cm = metrics.confusion_matrix(y_test, predictions)\n",
    "plt.figure(figsize=(9,9))\n",
    "sns.heatmap(cm, annot=True, fmt=\".3f\", linewidths=.5, square = True, cmap = 'Reds_r');\n",
    "plt.ylabel('Actual label');\n",
    "plt.xlabel('Predicted label');\n",
    "all_sample_title = 'Accuracy Score: {0}'.format(score)\n",
    "plt.title(all_sample_title, size = 15);"
   ]
  },
  {
   "cell_type": "code",
   "execution_count": null,
   "id": "3c5a1ce2",
   "metadata": {},
   "outputs": [],
   "source": [
    "#define metrics\n",
    "y_pred_proba = logisticRegr.predict_proba(x_test)[::,1]\n",
    "fpr, tpr, _ = metrics.roc_curve(y_test,  y_pred_proba,pos_label=\"Inactive\")\n",
    "auc = metrics.roc_auc_score(y_test, y_pred_proba)\n",
    "\n",
    "#create ROC curve\n",
    "plt.plot(-fpr,tpr,label=\"AUC=\"+str(auc))\n",
    "plt.ylabel('True Positive Rate')\n",
    "plt.xlabel('False Positive Rate')\n",
    "plt.legend(loc=4)\n",
    "plt.show()"
   ]
  },
  {
   "cell_type": "markdown",
   "id": "00a30059",
   "metadata": {},
   "source": [
    "## Things to do \n",
    "- Create and evaluate 2 k-nearest neighbors classifier with k=3 and k=4\n",
    "- Create visualisations based on our best model - Random forest with classifiers (no dummies)\n",
    "- Presentations\n",
    "    - "
   ]
  }
 ],
 "metadata": {
  "kernelspec": {
   "display_name": "Python 3 (ipykernel)",
   "language": "python",
   "name": "python3"
  },
  "language_info": {
   "codemirror_mode": {
    "name": "ipython",
    "version": 3
   },
   "file_extension": ".py",
   "mimetype": "text/x-python",
   "name": "python",
   "nbconvert_exporter": "python",
   "pygments_lexer": "ipython3",
   "version": "3.9.7"
  }
 },
 "nbformat": 4,
 "nbformat_minor": 5
}
