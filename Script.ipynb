{
 "cells": [
  {
   "cell_type": "code",
   "execution_count": 1,
   "id": "c3d4e0ed",
   "metadata": {},
   "outputs": [],
   "source": [
    "import numpy as np\n",
    "import pandas as pd"
   ]
  },
  {
   "cell_type": "code",
   "execution_count": 2,
   "id": "d2b466cf",
   "metadata": {},
   "outputs": [
    {
     "data": {
      "text/html": [
       "<div>\n",
       "<style scoped>\n",
       "    .dataframe tbody tr th:only-of-type {\n",
       "        vertical-align: middle;\n",
       "    }\n",
       "\n",
       "    .dataframe tbody tr th {\n",
       "        vertical-align: top;\n",
       "    }\n",
       "\n",
       "    .dataframe thead th {\n",
       "        text-align: right;\n",
       "    }\n",
       "</style>\n",
       "<table border=\"1\" class=\"dataframe\">\n",
       "  <thead>\n",
       "    <tr style=\"text-align: right;\">\n",
       "      <th></th>\n",
       "      <th>MW</th>\n",
       "      <th>ALOGP</th>\n",
       "      <th>HBA</th>\n",
       "      <th>HBD</th>\n",
       "      <th>PSA</th>\n",
       "      <th>ROTB</th>\n",
       "      <th>AROM</th>\n",
       "      <th>ALERTS</th>\n",
       "      <th>QED</th>\n",
       "    </tr>\n",
       "  </thead>\n",
       "  <tbody>\n",
       "    <tr>\n",
       "      <th>0</th>\n",
       "      <td>385.329</td>\n",
       "      <td>-3.33260</td>\n",
       "      <td>11.0</td>\n",
       "      <td>4.0</td>\n",
       "      <td>171.16</td>\n",
       "      <td>3.0</td>\n",
       "      <td>0.0</td>\n",
       "      <td>1.0</td>\n",
       "      <td>0.358060</td>\n",
       "    </tr>\n",
       "    <tr>\n",
       "      <th>1</th>\n",
       "      <td>328.543</td>\n",
       "      <td>5.55762</td>\n",
       "      <td>3.0</td>\n",
       "      <td>0.0</td>\n",
       "      <td>34.14</td>\n",
       "      <td>11.0</td>\n",
       "      <td>1.0</td>\n",
       "      <td>2.0</td>\n",
       "      <td>0.393888</td>\n",
       "    </tr>\n",
       "    <tr>\n",
       "      <th>2</th>\n",
       "      <td>404.151</td>\n",
       "      <td>-7.82110</td>\n",
       "      <td>5.0</td>\n",
       "      <td>3.0</td>\n",
       "      <td>118.28</td>\n",
       "      <td>4.0</td>\n",
       "      <td>0.0</td>\n",
       "      <td>1.0</td>\n",
       "      <td>0.402707</td>\n",
       "    </tr>\n",
       "    <tr>\n",
       "      <th>3</th>\n",
       "      <td>280.799</td>\n",
       "      <td>-1.16110</td>\n",
       "      <td>1.0</td>\n",
       "      <td>2.0</td>\n",
       "      <td>41.63</td>\n",
       "      <td>3.0</td>\n",
       "      <td>2.0</td>\n",
       "      <td>0.0</td>\n",
       "      <td>0.731770</td>\n",
       "    </tr>\n",
       "    <tr>\n",
       "      <th>4</th>\n",
       "      <td>248.257</td>\n",
       "      <td>2.14680</td>\n",
       "      <td>2.0</td>\n",
       "      <td>0.0</td>\n",
       "      <td>40.62</td>\n",
       "      <td>1.0</td>\n",
       "      <td>1.0</td>\n",
       "      <td>1.0</td>\n",
       "      <td>0.714356</td>\n",
       "    </tr>\n",
       "    <tr>\n",
       "      <th>...</th>\n",
       "      <td>...</td>\n",
       "      <td>...</td>\n",
       "      <td>...</td>\n",
       "      <td>...</td>\n",
       "      <td>...</td>\n",
       "      <td>...</td>\n",
       "      <td>...</td>\n",
       "      <td>...</td>\n",
       "      <td>...</td>\n",
       "    </tr>\n",
       "    <tr>\n",
       "      <th>99875</th>\n",
       "      <td>262.302</td>\n",
       "      <td>0.01120</td>\n",
       "      <td>6.0</td>\n",
       "      <td>2.0</td>\n",
       "      <td>77.38</td>\n",
       "      <td>3.0</td>\n",
       "      <td>0.0</td>\n",
       "      <td>0.0</td>\n",
       "      <td>0.745917</td>\n",
       "    </tr>\n",
       "    <tr>\n",
       "      <th>99876</th>\n",
       "      <td>218.256</td>\n",
       "      <td>0.31740</td>\n",
       "      <td>4.0</td>\n",
       "      <td>0.0</td>\n",
       "      <td>40.16</td>\n",
       "      <td>2.0</td>\n",
       "      <td>0.0</td>\n",
       "      <td>2.0</td>\n",
       "      <td>0.494069</td>\n",
       "    </tr>\n",
       "    <tr>\n",
       "      <th>99877</th>\n",
       "      <td>670.848</td>\n",
       "      <td>2.97110</td>\n",
       "      <td>9.0</td>\n",
       "      <td>5.0</td>\n",
       "      <td>158.69</td>\n",
       "      <td>14.0</td>\n",
       "      <td>2.0</td>\n",
       "      <td>0.0</td>\n",
       "      <td>0.203831</td>\n",
       "    </tr>\n",
       "    <tr>\n",
       "      <th>99878</th>\n",
       "      <td>113.204</td>\n",
       "      <td>1.53690</td>\n",
       "      <td>1.0</td>\n",
       "      <td>1.0</td>\n",
       "      <td>12.03</td>\n",
       "      <td>0.0</td>\n",
       "      <td>0.0</td>\n",
       "      <td>0.0</td>\n",
       "      <td>0.502149</td>\n",
       "    </tr>\n",
       "    <tr>\n",
       "      <th>99879</th>\n",
       "      <td>405.626</td>\n",
       "      <td>7.20090</td>\n",
       "      <td>1.0</td>\n",
       "      <td>2.0</td>\n",
       "      <td>36.02</td>\n",
       "      <td>2.0</td>\n",
       "      <td>2.0</td>\n",
       "      <td>0.0</td>\n",
       "      <td>0.544251</td>\n",
       "    </tr>\n",
       "  </tbody>\n",
       "</table>\n",
       "<p>99880 rows × 9 columns</p>\n",
       "</div>"
      ],
      "text/plain": [
       "            MW    ALOGP   HBA  HBD     PSA  ROTB  AROM  ALERTS       QED\n",
       "0      385.329 -3.33260  11.0  4.0  171.16   3.0   0.0     1.0  0.358060\n",
       "1      328.543  5.55762   3.0  0.0   34.14  11.0   1.0     2.0  0.393888\n",
       "2      404.151 -7.82110   5.0  3.0  118.28   4.0   0.0     1.0  0.402707\n",
       "3      280.799 -1.16110   1.0  2.0   41.63   3.0   2.0     0.0  0.731770\n",
       "4      248.257  2.14680   2.0  0.0   40.62   1.0   1.0     1.0  0.714356\n",
       "...        ...      ...   ...  ...     ...   ...   ...     ...       ...\n",
       "99875  262.302  0.01120   6.0  2.0   77.38   3.0   0.0     0.0  0.745917\n",
       "99876  218.256  0.31740   4.0  0.0   40.16   2.0   0.0     2.0  0.494069\n",
       "99877  670.848  2.97110   9.0  5.0  158.69  14.0   2.0     0.0  0.203831\n",
       "99878  113.204  1.53690   1.0  1.0   12.03   0.0   0.0     0.0  0.502149\n",
       "99879  405.626  7.20090   1.0  2.0   36.02   2.0   2.0     0.0  0.544251\n",
       "\n",
       "[99880 rows x 9 columns]"
      ]
     },
     "execution_count": 2,
     "metadata": {},
     "output_type": "execute_result"
    }
   ],
   "source": [
    "# Import data set\n",
    "\n",
    "survey_data=pd.read_csv(\"../NIHMS50746-supplement-AZ_chemsurvey_QED.csv\")\n",
    "df=pd.read_csv(\"../PubChemData.csv\")\n",
    "df"
   ]
  },
  {
   "cell_type": "code",
   "execution_count": 3,
   "id": "69d8ace0",
   "metadata": {},
   "outputs": [
    {
     "data": {
      "text/html": [
       "<div>\n",
       "<style scoped>\n",
       "    .dataframe tbody tr th:only-of-type {\n",
       "        vertical-align: middle;\n",
       "    }\n",
       "\n",
       "    .dataframe tbody tr th {\n",
       "        vertical-align: top;\n",
       "    }\n",
       "\n",
       "    .dataframe thead th {\n",
       "        text-align: right;\n",
       "    }\n",
       "</style>\n",
       "<table border=\"1\" class=\"dataframe\">\n",
       "  <thead>\n",
       "    <tr style=\"text-align: right;\">\n",
       "      <th></th>\n",
       "      <th>DO_CHEMISTRY</th>\n",
       "      <th>CHEMISTRY_COMMENT</th>\n",
       "      <th>MW</th>\n",
       "      <th>ALOGP</th>\n",
       "      <th>HBD</th>\n",
       "      <th>HBA</th>\n",
       "      <th>PSA</th>\n",
       "      <th>ROTB</th>\n",
       "      <th>AROM</th>\n",
       "      <th>ALERTS</th>\n",
       "      <th>UNWEIGHTED_QED</th>\n",
       "      <th>QED</th>\n",
       "    </tr>\n",
       "  </thead>\n",
       "  <tbody>\n",
       "    <tr>\n",
       "      <th>0</th>\n",
       "      <td>YES</td>\n",
       "      <td>-</td>\n",
       "      <td>287.41974</td>\n",
       "      <td>4.746</td>\n",
       "      <td>1</td>\n",
       "      <td>2</td>\n",
       "      <td>57.34</td>\n",
       "      <td>7</td>\n",
       "      <td>2</td>\n",
       "      <td>1</td>\n",
       "      <td>0.799</td>\n",
       "      <td>0.747</td>\n",
       "    </tr>\n",
       "    <tr>\n",
       "      <th>1</th>\n",
       "      <td>YES</td>\n",
       "      <td>-</td>\n",
       "      <td>333.40536</td>\n",
       "      <td>2.282</td>\n",
       "      <td>1</td>\n",
       "      <td>6</td>\n",
       "      <td>98.64</td>\n",
       "      <td>6</td>\n",
       "      <td>2</td>\n",
       "      <td>2</td>\n",
       "      <td>0.692</td>\n",
       "      <td>0.643</td>\n",
       "    </tr>\n",
       "    <tr>\n",
       "      <th>2</th>\n",
       "      <td>YES</td>\n",
       "      <td>-</td>\n",
       "      <td>296.77581</td>\n",
       "      <td>2.270</td>\n",
       "      <td>1</td>\n",
       "      <td>4</td>\n",
       "      <td>85.11</td>\n",
       "      <td>4</td>\n",
       "      <td>2</td>\n",
       "      <td>1</td>\n",
       "      <td>0.895</td>\n",
       "      <td>0.877</td>\n",
       "    </tr>\n",
       "    <tr>\n",
       "      <th>3</th>\n",
       "      <td>YES</td>\n",
       "      <td>-</td>\n",
       "      <td>311.37494</td>\n",
       "      <td>4.105</td>\n",
       "      <td>1</td>\n",
       "      <td>4</td>\n",
       "      <td>47.56</td>\n",
       "      <td>6</td>\n",
       "      <td>2</td>\n",
       "      <td>1</td>\n",
       "      <td>0.859</td>\n",
       "      <td>0.816</td>\n",
       "    </tr>\n",
       "    <tr>\n",
       "      <th>4</th>\n",
       "      <td>YES</td>\n",
       "      <td>-</td>\n",
       "      <td>297.34836</td>\n",
       "      <td>3.414</td>\n",
       "      <td>1</td>\n",
       "      <td>4</td>\n",
       "      <td>47.56</td>\n",
       "      <td>5</td>\n",
       "      <td>2</td>\n",
       "      <td>1</td>\n",
       "      <td>0.899</td>\n",
       "      <td>0.859</td>\n",
       "    </tr>\n",
       "    <tr>\n",
       "      <th>...</th>\n",
       "      <td>...</td>\n",
       "      <td>...</td>\n",
       "      <td>...</td>\n",
       "      <td>...</td>\n",
       "      <td>...</td>\n",
       "      <td>...</td>\n",
       "      <td>...</td>\n",
       "      <td>...</td>\n",
       "      <td>...</td>\n",
       "      <td>...</td>\n",
       "      <td>...</td>\n",
       "      <td>...</td>\n",
       "    </tr>\n",
       "    <tr>\n",
       "      <th>17112</th>\n",
       "      <td>NO</td>\n",
       "      <td>too simple</td>\n",
       "      <td>229.27440</td>\n",
       "      <td>3.200</td>\n",
       "      <td>1</td>\n",
       "      <td>2</td>\n",
       "      <td>42.23</td>\n",
       "      <td>2</td>\n",
       "      <td>2</td>\n",
       "      <td>0</td>\n",
       "      <td>0.888</td>\n",
       "      <td>0.859</td>\n",
       "    </tr>\n",
       "    <tr>\n",
       "      <th>17113</th>\n",
       "      <td>NO</td>\n",
       "      <td>too simple</td>\n",
       "      <td>229.27440</td>\n",
       "      <td>3.200</td>\n",
       "      <td>1</td>\n",
       "      <td>2</td>\n",
       "      <td>42.23</td>\n",
       "      <td>2</td>\n",
       "      <td>2</td>\n",
       "      <td>0</td>\n",
       "      <td>0.888</td>\n",
       "      <td>0.859</td>\n",
       "    </tr>\n",
       "    <tr>\n",
       "      <th>17114</th>\n",
       "      <td>NO</td>\n",
       "      <td>too simple</td>\n",
       "      <td>199.20535</td>\n",
       "      <td>1.946</td>\n",
       "      <td>0</td>\n",
       "      <td>2</td>\n",
       "      <td>43.10</td>\n",
       "      <td>3</td>\n",
       "      <td>2</td>\n",
       "      <td>2</td>\n",
       "      <td>0.688</td>\n",
       "      <td>0.560</td>\n",
       "    </tr>\n",
       "    <tr>\n",
       "      <th>17115</th>\n",
       "      <td>NO</td>\n",
       "      <td>too simple</td>\n",
       "      <td>255.70229</td>\n",
       "      <td>2.825</td>\n",
       "      <td>0</td>\n",
       "      <td>3</td>\n",
       "      <td>38.67</td>\n",
       "      <td>2</td>\n",
       "      <td>3</td>\n",
       "      <td>0</td>\n",
       "      <td>0.734</td>\n",
       "      <td>0.707</td>\n",
       "    </tr>\n",
       "    <tr>\n",
       "      <th>17116</th>\n",
       "      <td>NO</td>\n",
       "      <td>too simple</td>\n",
       "      <td>255.70229</td>\n",
       "      <td>2.825</td>\n",
       "      <td>0</td>\n",
       "      <td>3</td>\n",
       "      <td>38.67</td>\n",
       "      <td>2</td>\n",
       "      <td>3</td>\n",
       "      <td>0</td>\n",
       "      <td>0.734</td>\n",
       "      <td>0.707</td>\n",
       "    </tr>\n",
       "  </tbody>\n",
       "</table>\n",
       "<p>17117 rows × 12 columns</p>\n",
       "</div>"
      ],
      "text/plain": [
       "      DO_CHEMISTRY CHEMISTRY_COMMENT         MW  ALOGP  HBD  HBA    PSA  ROTB  \\\n",
       "0              YES                 -  287.41974  4.746    1    2  57.34     7   \n",
       "1              YES                 -  333.40536  2.282    1    6  98.64     6   \n",
       "2              YES                 -  296.77581  2.270    1    4  85.11     4   \n",
       "3              YES                 -  311.37494  4.105    1    4  47.56     6   \n",
       "4              YES                 -  297.34836  3.414    1    4  47.56     5   \n",
       "...            ...               ...        ...    ...  ...  ...    ...   ...   \n",
       "17112           NO        too simple  229.27440  3.200    1    2  42.23     2   \n",
       "17113           NO        too simple  229.27440  3.200    1    2  42.23     2   \n",
       "17114           NO        too simple  199.20535  1.946    0    2  43.10     3   \n",
       "17115           NO        too simple  255.70229  2.825    0    3  38.67     2   \n",
       "17116           NO        too simple  255.70229  2.825    0    3  38.67     2   \n",
       "\n",
       "       AROM  ALERTS  UNWEIGHTED_QED    QED  \n",
       "0         2       1           0.799  0.747  \n",
       "1         2       2           0.692  0.643  \n",
       "2         2       1           0.895  0.877  \n",
       "3         2       1           0.859  0.816  \n",
       "4         2       1           0.899  0.859  \n",
       "...     ...     ...             ...    ...  \n",
       "17112     2       0           0.888  0.859  \n",
       "17113     2       0           0.888  0.859  \n",
       "17114     2       2           0.688  0.560  \n",
       "17115     3       0           0.734  0.707  \n",
       "17116     3       0           0.734  0.707  \n",
       "\n",
       "[17117 rows x 12 columns]"
      ]
     },
     "execution_count": 3,
     "metadata": {},
     "output_type": "execute_result"
    }
   ],
   "source": [
    "# Filter out DES columns\n",
    "\n",
    "survey_data = survey_data.filter(['DO_CHEMISTRY','CHEMISTRY_COMMENT','MW', 'ALOGP', 'HBD', 'HBA', 'PSA', 'ROTB', 'AROM', 'ALERTS', 'UNWEIGHTED_QED', 'QED'], axis = 1)\n",
    "survey_data"
   ]
  },
  {
   "cell_type": "code",
   "execution_count": 4,
   "id": "07b71c7b",
   "metadata": {
    "scrolled": true
   },
   "outputs": [],
   "source": [
    "# Lipinski function\n",
    "\n",
    "def lipinski(MW, ALOGP, HBD, HBA):\n",
    "    strike = 0\n",
    "    if MW > 500:\n",
    "        strike = strike + 1\n",
    "    if ALOGP > 5:\n",
    "        strike = strike + 1\n",
    "    if HBD > 5:\n",
    "        strike = strike + 1\n",
    "    if HBA > 10:\n",
    "        strike = strike + 1\n",
    "    if strike > 1:\n",
    "        return 'Not Drug-like'\n",
    "    else: \n",
    "        return 'Drug-like'"
   ]
  },
  {
   "cell_type": "code",
   "execution_count": 5,
   "id": "6888a537",
   "metadata": {},
   "outputs": [],
   "source": [
    "# Run function on all rows\n",
    "\n",
    "lip = []\n",
    "for i in range(0, len(df)):\n",
    "    lip.append(lipinski(df.loc[i,'MW'], df.loc[i,'ALOGP'], df.loc[i,'HBD'], df.loc[i,'HBA']))"
   ]
  },
  {
   "cell_type": "code",
   "execution_count": 6,
   "id": "a007fc60",
   "metadata": {},
   "outputs": [
    {
     "data": {
      "text/html": [
       "<div>\n",
       "<style scoped>\n",
       "    .dataframe tbody tr th:only-of-type {\n",
       "        vertical-align: middle;\n",
       "    }\n",
       "\n",
       "    .dataframe tbody tr th {\n",
       "        vertical-align: top;\n",
       "    }\n",
       "\n",
       "    .dataframe thead th {\n",
       "        text-align: right;\n",
       "    }\n",
       "</style>\n",
       "<table border=\"1\" class=\"dataframe\">\n",
       "  <thead>\n",
       "    <tr style=\"text-align: right;\">\n",
       "      <th></th>\n",
       "      <th>MW</th>\n",
       "      <th>ALOGP</th>\n",
       "      <th>HBA</th>\n",
       "      <th>HBD</th>\n",
       "      <th>PSA</th>\n",
       "      <th>ROTB</th>\n",
       "      <th>AROM</th>\n",
       "      <th>ALERTS</th>\n",
       "      <th>QED</th>\n",
       "      <th>Lipinski</th>\n",
       "    </tr>\n",
       "  </thead>\n",
       "  <tbody>\n",
       "    <tr>\n",
       "      <th>0</th>\n",
       "      <td>385.329</td>\n",
       "      <td>-3.33260</td>\n",
       "      <td>11.0</td>\n",
       "      <td>4.0</td>\n",
       "      <td>171.16</td>\n",
       "      <td>3.0</td>\n",
       "      <td>0.0</td>\n",
       "      <td>1.0</td>\n",
       "      <td>0.358060</td>\n",
       "      <td>Drug-like</td>\n",
       "    </tr>\n",
       "    <tr>\n",
       "      <th>1</th>\n",
       "      <td>328.543</td>\n",
       "      <td>5.55762</td>\n",
       "      <td>3.0</td>\n",
       "      <td>0.0</td>\n",
       "      <td>34.14</td>\n",
       "      <td>11.0</td>\n",
       "      <td>1.0</td>\n",
       "      <td>2.0</td>\n",
       "      <td>0.393888</td>\n",
       "      <td>Drug-like</td>\n",
       "    </tr>\n",
       "    <tr>\n",
       "      <th>2</th>\n",
       "      <td>404.151</td>\n",
       "      <td>-7.82110</td>\n",
       "      <td>5.0</td>\n",
       "      <td>3.0</td>\n",
       "      <td>118.28</td>\n",
       "      <td>4.0</td>\n",
       "      <td>0.0</td>\n",
       "      <td>1.0</td>\n",
       "      <td>0.402707</td>\n",
       "      <td>Drug-like</td>\n",
       "    </tr>\n",
       "    <tr>\n",
       "      <th>3</th>\n",
       "      <td>280.799</td>\n",
       "      <td>-1.16110</td>\n",
       "      <td>1.0</td>\n",
       "      <td>2.0</td>\n",
       "      <td>41.63</td>\n",
       "      <td>3.0</td>\n",
       "      <td>2.0</td>\n",
       "      <td>0.0</td>\n",
       "      <td>0.731770</td>\n",
       "      <td>Drug-like</td>\n",
       "    </tr>\n",
       "    <tr>\n",
       "      <th>4</th>\n",
       "      <td>248.257</td>\n",
       "      <td>2.14680</td>\n",
       "      <td>2.0</td>\n",
       "      <td>0.0</td>\n",
       "      <td>40.62</td>\n",
       "      <td>1.0</td>\n",
       "      <td>1.0</td>\n",
       "      <td>1.0</td>\n",
       "      <td>0.714356</td>\n",
       "      <td>Drug-like</td>\n",
       "    </tr>\n",
       "    <tr>\n",
       "      <th>...</th>\n",
       "      <td>...</td>\n",
       "      <td>...</td>\n",
       "      <td>...</td>\n",
       "      <td>...</td>\n",
       "      <td>...</td>\n",
       "      <td>...</td>\n",
       "      <td>...</td>\n",
       "      <td>...</td>\n",
       "      <td>...</td>\n",
       "      <td>...</td>\n",
       "    </tr>\n",
       "    <tr>\n",
       "      <th>99875</th>\n",
       "      <td>262.302</td>\n",
       "      <td>0.01120</td>\n",
       "      <td>6.0</td>\n",
       "      <td>2.0</td>\n",
       "      <td>77.38</td>\n",
       "      <td>3.0</td>\n",
       "      <td>0.0</td>\n",
       "      <td>0.0</td>\n",
       "      <td>0.745917</td>\n",
       "      <td>Drug-like</td>\n",
       "    </tr>\n",
       "    <tr>\n",
       "      <th>99876</th>\n",
       "      <td>218.256</td>\n",
       "      <td>0.31740</td>\n",
       "      <td>4.0</td>\n",
       "      <td>0.0</td>\n",
       "      <td>40.16</td>\n",
       "      <td>2.0</td>\n",
       "      <td>0.0</td>\n",
       "      <td>2.0</td>\n",
       "      <td>0.494069</td>\n",
       "      <td>Drug-like</td>\n",
       "    </tr>\n",
       "    <tr>\n",
       "      <th>99877</th>\n",
       "      <td>670.848</td>\n",
       "      <td>2.97110</td>\n",
       "      <td>9.0</td>\n",
       "      <td>5.0</td>\n",
       "      <td>158.69</td>\n",
       "      <td>14.0</td>\n",
       "      <td>2.0</td>\n",
       "      <td>0.0</td>\n",
       "      <td>0.203831</td>\n",
       "      <td>Drug-like</td>\n",
       "    </tr>\n",
       "    <tr>\n",
       "      <th>99878</th>\n",
       "      <td>113.204</td>\n",
       "      <td>1.53690</td>\n",
       "      <td>1.0</td>\n",
       "      <td>1.0</td>\n",
       "      <td>12.03</td>\n",
       "      <td>0.0</td>\n",
       "      <td>0.0</td>\n",
       "      <td>0.0</td>\n",
       "      <td>0.502149</td>\n",
       "      <td>Drug-like</td>\n",
       "    </tr>\n",
       "    <tr>\n",
       "      <th>99879</th>\n",
       "      <td>405.626</td>\n",
       "      <td>7.20090</td>\n",
       "      <td>1.0</td>\n",
       "      <td>2.0</td>\n",
       "      <td>36.02</td>\n",
       "      <td>2.0</td>\n",
       "      <td>2.0</td>\n",
       "      <td>0.0</td>\n",
       "      <td>0.544251</td>\n",
       "      <td>Drug-like</td>\n",
       "    </tr>\n",
       "  </tbody>\n",
       "</table>\n",
       "<p>99880 rows × 10 columns</p>\n",
       "</div>"
      ],
      "text/plain": [
       "            MW    ALOGP   HBA  HBD     PSA  ROTB  AROM  ALERTS       QED  \\\n",
       "0      385.329 -3.33260  11.0  4.0  171.16   3.0   0.0     1.0  0.358060   \n",
       "1      328.543  5.55762   3.0  0.0   34.14  11.0   1.0     2.0  0.393888   \n",
       "2      404.151 -7.82110   5.0  3.0  118.28   4.0   0.0     1.0  0.402707   \n",
       "3      280.799 -1.16110   1.0  2.0   41.63   3.0   2.0     0.0  0.731770   \n",
       "4      248.257  2.14680   2.0  0.0   40.62   1.0   1.0     1.0  0.714356   \n",
       "...        ...      ...   ...  ...     ...   ...   ...     ...       ...   \n",
       "99875  262.302  0.01120   6.0  2.0   77.38   3.0   0.0     0.0  0.745917   \n",
       "99876  218.256  0.31740   4.0  0.0   40.16   2.0   0.0     2.0  0.494069   \n",
       "99877  670.848  2.97110   9.0  5.0  158.69  14.0   2.0     0.0  0.203831   \n",
       "99878  113.204  1.53690   1.0  1.0   12.03   0.0   0.0     0.0  0.502149   \n",
       "99879  405.626  7.20090   1.0  2.0   36.02   2.0   2.0     0.0  0.544251   \n",
       "\n",
       "        Lipinski  \n",
       "0      Drug-like  \n",
       "1      Drug-like  \n",
       "2      Drug-like  \n",
       "3      Drug-like  \n",
       "4      Drug-like  \n",
       "...          ...  \n",
       "99875  Drug-like  \n",
       "99876  Drug-like  \n",
       "99877  Drug-like  \n",
       "99878  Drug-like  \n",
       "99879  Drug-like  \n",
       "\n",
       "[99880 rows x 10 columns]"
      ]
     },
     "execution_count": 6,
     "metadata": {},
     "output_type": "execute_result"
    }
   ],
   "source": [
    "# Create new Lipinski feature\n",
    "\n",
    "df['Lipinski'] = lip\n",
    "df"
   ]
  },
  {
   "cell_type": "markdown",
   "id": "3c8ae630",
   "metadata": {},
   "source": [
    "### Engineering the Veber feature\n",
    "The rules for the <a href=\"https://sci-hub.st/10.1021/jm020017n\" target=\"_blank\">Verber metric</a> of drug likeness is defined as such: a molecule has a high probability of good oral bioavailability (and hence druglike) if it has\n",
    "1) 10 or fewer roatable bonds\n",
    "\n",
    "2) 12 or fewer H-bond donors and acceptors"
   ]
  },
  {
   "cell_type": "code",
   "execution_count": 7,
   "id": "573dbff1",
   "metadata": {},
   "outputs": [],
   "source": [
    "# Veber function\n",
    "def veber(HBD,HBA,ROTB):\n",
    "    if HBD+HBA<=12:\n",
    "        if ROTB<=10:\n",
    "            return \"Drug-like\"\n",
    "        else: return \"Not Drug-like\"\n",
    "    else: return \"Not Drug-like\""
   ]
  },
  {
   "cell_type": "code",
   "execution_count": 8,
   "id": "22f589f5",
   "metadata": {},
   "outputs": [],
   "source": [
    "# Create new Veber feature as a list\n",
    "veb = []\n",
    "for i in range(0, len(df)):\n",
    "    veb.append(veber(df.loc[i,'HBD'], df.loc[i,'HBA'], df.loc[i,'ROTB']))"
   ]
  },
  {
   "cell_type": "code",
   "execution_count": 9,
   "id": "90608194",
   "metadata": {},
   "outputs": [
    {
     "data": {
      "text/html": [
       "<div>\n",
       "<style scoped>\n",
       "    .dataframe tbody tr th:only-of-type {\n",
       "        vertical-align: middle;\n",
       "    }\n",
       "\n",
       "    .dataframe tbody tr th {\n",
       "        vertical-align: top;\n",
       "    }\n",
       "\n",
       "    .dataframe thead th {\n",
       "        text-align: right;\n",
       "    }\n",
       "</style>\n",
       "<table border=\"1\" class=\"dataframe\">\n",
       "  <thead>\n",
       "    <tr style=\"text-align: right;\">\n",
       "      <th></th>\n",
       "      <th>MW</th>\n",
       "      <th>ALOGP</th>\n",
       "      <th>HBA</th>\n",
       "      <th>HBD</th>\n",
       "      <th>PSA</th>\n",
       "      <th>ROTB</th>\n",
       "      <th>AROM</th>\n",
       "      <th>ALERTS</th>\n",
       "      <th>QED</th>\n",
       "      <th>Lipinski</th>\n",
       "      <th>Veber</th>\n",
       "    </tr>\n",
       "  </thead>\n",
       "  <tbody>\n",
       "    <tr>\n",
       "      <th>0</th>\n",
       "      <td>385.329</td>\n",
       "      <td>-3.33260</td>\n",
       "      <td>11.0</td>\n",
       "      <td>4.0</td>\n",
       "      <td>171.16</td>\n",
       "      <td>3.0</td>\n",
       "      <td>0.0</td>\n",
       "      <td>1.0</td>\n",
       "      <td>0.358060</td>\n",
       "      <td>Drug-like</td>\n",
       "      <td>Not Drug-like</td>\n",
       "    </tr>\n",
       "    <tr>\n",
       "      <th>1</th>\n",
       "      <td>328.543</td>\n",
       "      <td>5.55762</td>\n",
       "      <td>3.0</td>\n",
       "      <td>0.0</td>\n",
       "      <td>34.14</td>\n",
       "      <td>11.0</td>\n",
       "      <td>1.0</td>\n",
       "      <td>2.0</td>\n",
       "      <td>0.393888</td>\n",
       "      <td>Drug-like</td>\n",
       "      <td>Not Drug-like</td>\n",
       "    </tr>\n",
       "    <tr>\n",
       "      <th>2</th>\n",
       "      <td>404.151</td>\n",
       "      <td>-7.82110</td>\n",
       "      <td>5.0</td>\n",
       "      <td>3.0</td>\n",
       "      <td>118.28</td>\n",
       "      <td>4.0</td>\n",
       "      <td>0.0</td>\n",
       "      <td>1.0</td>\n",
       "      <td>0.402707</td>\n",
       "      <td>Drug-like</td>\n",
       "      <td>Drug-like</td>\n",
       "    </tr>\n",
       "    <tr>\n",
       "      <th>3</th>\n",
       "      <td>280.799</td>\n",
       "      <td>-1.16110</td>\n",
       "      <td>1.0</td>\n",
       "      <td>2.0</td>\n",
       "      <td>41.63</td>\n",
       "      <td>3.0</td>\n",
       "      <td>2.0</td>\n",
       "      <td>0.0</td>\n",
       "      <td>0.731770</td>\n",
       "      <td>Drug-like</td>\n",
       "      <td>Drug-like</td>\n",
       "    </tr>\n",
       "    <tr>\n",
       "      <th>4</th>\n",
       "      <td>248.257</td>\n",
       "      <td>2.14680</td>\n",
       "      <td>2.0</td>\n",
       "      <td>0.0</td>\n",
       "      <td>40.62</td>\n",
       "      <td>1.0</td>\n",
       "      <td>1.0</td>\n",
       "      <td>1.0</td>\n",
       "      <td>0.714356</td>\n",
       "      <td>Drug-like</td>\n",
       "      <td>Drug-like</td>\n",
       "    </tr>\n",
       "    <tr>\n",
       "      <th>...</th>\n",
       "      <td>...</td>\n",
       "      <td>...</td>\n",
       "      <td>...</td>\n",
       "      <td>...</td>\n",
       "      <td>...</td>\n",
       "      <td>...</td>\n",
       "      <td>...</td>\n",
       "      <td>...</td>\n",
       "      <td>...</td>\n",
       "      <td>...</td>\n",
       "      <td>...</td>\n",
       "    </tr>\n",
       "    <tr>\n",
       "      <th>99875</th>\n",
       "      <td>262.302</td>\n",
       "      <td>0.01120</td>\n",
       "      <td>6.0</td>\n",
       "      <td>2.0</td>\n",
       "      <td>77.38</td>\n",
       "      <td>3.0</td>\n",
       "      <td>0.0</td>\n",
       "      <td>0.0</td>\n",
       "      <td>0.745917</td>\n",
       "      <td>Drug-like</td>\n",
       "      <td>Drug-like</td>\n",
       "    </tr>\n",
       "    <tr>\n",
       "      <th>99876</th>\n",
       "      <td>218.256</td>\n",
       "      <td>0.31740</td>\n",
       "      <td>4.0</td>\n",
       "      <td>0.0</td>\n",
       "      <td>40.16</td>\n",
       "      <td>2.0</td>\n",
       "      <td>0.0</td>\n",
       "      <td>2.0</td>\n",
       "      <td>0.494069</td>\n",
       "      <td>Drug-like</td>\n",
       "      <td>Drug-like</td>\n",
       "    </tr>\n",
       "    <tr>\n",
       "      <th>99877</th>\n",
       "      <td>670.848</td>\n",
       "      <td>2.97110</td>\n",
       "      <td>9.0</td>\n",
       "      <td>5.0</td>\n",
       "      <td>158.69</td>\n",
       "      <td>14.0</td>\n",
       "      <td>2.0</td>\n",
       "      <td>0.0</td>\n",
       "      <td>0.203831</td>\n",
       "      <td>Drug-like</td>\n",
       "      <td>Not Drug-like</td>\n",
       "    </tr>\n",
       "    <tr>\n",
       "      <th>99878</th>\n",
       "      <td>113.204</td>\n",
       "      <td>1.53690</td>\n",
       "      <td>1.0</td>\n",
       "      <td>1.0</td>\n",
       "      <td>12.03</td>\n",
       "      <td>0.0</td>\n",
       "      <td>0.0</td>\n",
       "      <td>0.0</td>\n",
       "      <td>0.502149</td>\n",
       "      <td>Drug-like</td>\n",
       "      <td>Drug-like</td>\n",
       "    </tr>\n",
       "    <tr>\n",
       "      <th>99879</th>\n",
       "      <td>405.626</td>\n",
       "      <td>7.20090</td>\n",
       "      <td>1.0</td>\n",
       "      <td>2.0</td>\n",
       "      <td>36.02</td>\n",
       "      <td>2.0</td>\n",
       "      <td>2.0</td>\n",
       "      <td>0.0</td>\n",
       "      <td>0.544251</td>\n",
       "      <td>Drug-like</td>\n",
       "      <td>Drug-like</td>\n",
       "    </tr>\n",
       "  </tbody>\n",
       "</table>\n",
       "<p>99880 rows × 11 columns</p>\n",
       "</div>"
      ],
      "text/plain": [
       "            MW    ALOGP   HBA  HBD     PSA  ROTB  AROM  ALERTS       QED  \\\n",
       "0      385.329 -3.33260  11.0  4.0  171.16   3.0   0.0     1.0  0.358060   \n",
       "1      328.543  5.55762   3.0  0.0   34.14  11.0   1.0     2.0  0.393888   \n",
       "2      404.151 -7.82110   5.0  3.0  118.28   4.0   0.0     1.0  0.402707   \n",
       "3      280.799 -1.16110   1.0  2.0   41.63   3.0   2.0     0.0  0.731770   \n",
       "4      248.257  2.14680   2.0  0.0   40.62   1.0   1.0     1.0  0.714356   \n",
       "...        ...      ...   ...  ...     ...   ...   ...     ...       ...   \n",
       "99875  262.302  0.01120   6.0  2.0   77.38   3.0   0.0     0.0  0.745917   \n",
       "99876  218.256  0.31740   4.0  0.0   40.16   2.0   0.0     2.0  0.494069   \n",
       "99877  670.848  2.97110   9.0  5.0  158.69  14.0   2.0     0.0  0.203831   \n",
       "99878  113.204  1.53690   1.0  1.0   12.03   0.0   0.0     0.0  0.502149   \n",
       "99879  405.626  7.20090   1.0  2.0   36.02   2.0   2.0     0.0  0.544251   \n",
       "\n",
       "        Lipinski          Veber  \n",
       "0      Drug-like  Not Drug-like  \n",
       "1      Drug-like  Not Drug-like  \n",
       "2      Drug-like      Drug-like  \n",
       "3      Drug-like      Drug-like  \n",
       "4      Drug-like      Drug-like  \n",
       "...          ...            ...  \n",
       "99875  Drug-like      Drug-like  \n",
       "99876  Drug-like      Drug-like  \n",
       "99877  Drug-like  Not Drug-like  \n",
       "99878  Drug-like      Drug-like  \n",
       "99879  Drug-like      Drug-like  \n",
       "\n",
       "[99880 rows x 11 columns]"
      ]
     },
     "execution_count": 9,
     "metadata": {},
     "output_type": "execute_result"
    }
   ],
   "source": [
    "# Add Veber list to the dataframe\n",
    "df['Veber']=veb\n",
    "df"
   ]
  },
  {
   "cell_type": "markdown",
   

   "id": "81723013",
   "metadata": {},
   "source": [
    "### Exploratory Data Analysis"
   ]
  },
  {
   "cell_type": "code",
   "execution_count": 10,
   "id": "dd941d34",
   "metadata": {},
   "outputs": [
    {
     "data": {
      "text/plain": [
       "Drug-like        90507\n",
       "Not Drug-like     9373\n",
       "Name: Lipinski, dtype: int64"
      ]
     },
     "execution_count": 10,
     "metadata": {},
     "output_type": "execute_result"
    }
   ],
   "source": [

    "### Engineering the Ghose Feature\n",
    "\n",
    "The rules for the Ghose metric of drug likeness is defined as such: a molecule has a high probability of good oral bioavailability (and hence druglike) if it has\n",
    "\n",
    "1) Log P between -0.4 and 5.6 \n",
    "\n",
    "2) Molecular weight between 160 and 480\n",
    "\n",
    "3) Molar refractivity between 40 and 130\n",
    "\n",
    "4) Total number of atoms between 20 and 70\n"

   ]
  },
  {
   "cell_type": "code",
   "execution_count": 11,
   "id": "5db10fd2",
   "metadata": {},
   "outputs": [
    {
     "data": {
      "text/plain": [
       "Drug-like        86009\n",
       "Not Drug-like    13871\n",
       "Name: Veber, dtype: int64"
      ]
     },
     "execution_count": 11,
     "metadata": {},
     "output_type": "execute_result"
    }
   ],
   "source": [
    "df['Veber'].value_counts()"
   ]
  },
  {
   "cell_type": "code",
   "execution_count": 12,
   "id": "02a66c81",
   "metadata": {},
   "outputs": [],
   "source": [
    "# df[df['QED'] > 0.67]\n",
    "# DOCHEM=df[df['DO_CHEMISTRY'] == 'YES']\n",
    "# DOCHEM['QED'].mean()"
   ]
  },
  {
   "cell_type": "code",
   "execution_count": 20,
   "id": "076a49b4",
   "metadata": {},
   "outputs": [
    {
     "data": {
      "text/plain": [
       "0.5227276154576835"
      ]
     },
     "execution_count": 20,
     "metadata": {},
     "output_type": "execute_result"
    }
   ],
   "source": [
    "df['QED'].mean()"
   ]
  },
  {
   "cell_type": "code",
   "execution_count": 14,
   "id": "b1d9e744",
   "metadata": {},
   "outputs": [
    {
     "data": {
      "text/plain": [
       "0.14915748021691463"
      ]
     },
     "execution_count": 14,
     "metadata": {},
     "output_type": "execute_result"
    }
   ],
   "source": [
    "# mean QED for rows that fail Lipinski test\n",
    "not_drug = df[df['Lipinski'] == 'Not Drug-like']\n",
    "not_drug['QED'].mean()"
   ]
  },
  {
   "cell_type": "code",
   "execution_count": 15,
   "id": "086f34a0",
   "metadata": {},
   "outputs": [
    {
     "data": {
      "text/plain": [
       "0.5614149311085344"
      ]
     },
     "execution_count": 15,
     "metadata": {},
     "output_type": "execute_result"
    }
   ],
   "source": [
    "# mean QED for rows that pass Lipinski test\n",
    "drug = df[df['Lipinski'] == 'Drug-like']\n",
    "drug['QED'].mean()"
   ]
  },
  {
   "cell_type": "code",
   "execution_count": 16,
   "id": "c312f14c",
   "metadata": {},
   "outputs": [
    {
     "data": {
      "text/plain": [
       "0.20416751655411094"
      ]
     },
     "execution_count": 16,
     "metadata": {},
     "output_type": "execute_result"
    }
   ],
   "source": [
    "# mean QED for rows that fail Veber test\n",
    "not_drug = df[df['Veber'] == 'Not Drug-like']\n",
    "not_drug['QED'].mean()"
   ]
  },
  {
   "cell_type": "code",

   "execution_count": 10,


   "execution_count": 17,
   "id": "cf5a4e0c",
   "metadata": {},
   "outputs": [
    {
     "data": {

      "text/html": [
       "<div>\n",
       "<style scoped>\n",
       "    .dataframe tbody tr th:only-of-type {\n",
       "        vertical-align: middle;\n",
       "    }\n",
       "\n",
       "    .dataframe tbody tr th {\n",
       "        vertical-align: top;\n",
       "    }\n",
       "\n",
       "    .dataframe thead th {\n",
       "        text-align: right;\n",
       "    }\n",
       "</style>\n",
       "<table border=\"1\" class=\"dataframe\">\n",
       "  <thead>\n",
       "    <tr style=\"text-align: right;\">\n",
       "      <th></th>\n",
       "      <th>MW</th>\n",
       "      <th>ALOGP</th>\n",
       "      <th>HBA</th>\n",
       "      <th>HBD</th>\n",
       "      <th>PSA</th>\n",
       "      <th>ROTB</th>\n",
       "      <th>AROM</th>\n",
       "      <th>ALERTS</th>\n",
       "      <th>QED</th>\n",
       "      <th>Lipinski</th>\n",
       "      <th>Veber</th>\n",
       "      <th>MR</th>\n",
       "      <th>ATOM</th>\n",
       "    </tr>\n",
       "  </thead>\n",
       "  <tbody>\n",
       "    <tr>\n",
       "      <th>0</th>\n",
       "      <td>385.329</td>\n",
       "      <td>-3.33260</td>\n",
       "      <td>11.0</td>\n",
       "      <td>4.0</td>\n",
       "      <td>171.16</td>\n",
       "      <td>3.0</td>\n",
       "      <td>0.0</td>\n",
       "      <td>1.0</td>\n",
       "      <td>0.358060</td>\n",
       "      <td>Drug-like</td>\n",
       "      <td>Not Drug-like</td>\n",
       "      <td>NaN</td>\n",
       "      <td>NaN</td>\n",
       "    </tr>\n",
       "    <tr>\n",
       "      <th>1</th>\n",
       "      <td>328.543</td>\n",
       "      <td>5.55762</td>\n",
       "      <td>3.0</td>\n",
       "      <td>0.0</td>\n",
       "      <td>34.14</td>\n",
       "      <td>11.0</td>\n",
       "      <td>1.0</td>\n",
       "      <td>2.0</td>\n",
       "      <td>0.393888</td>\n",
       "      <td>Drug-like</td>\n",
       "      <td>Not Drug-like</td>\n",
       "      <td>NaN</td>\n",
       "      <td>NaN</td>\n",
       "    </tr>\n",
       "    <tr>\n",
       "      <th>2</th>\n",
       "      <td>404.151</td>\n",
       "      <td>-7.82110</td>\n",
       "      <td>5.0</td>\n",
       "      <td>3.0</td>\n",
       "      <td>118.28</td>\n",
       "      <td>4.0</td>\n",
       "      <td>0.0</td>\n",
       "      <td>1.0</td>\n",
       "      <td>0.402707</td>\n",
       "      <td>Drug-like</td>\n",
       "      <td>Drug-like</td>\n",
       "      <td>NaN</td>\n",
       "      <td>NaN</td>\n",
       "    </tr>\n",
       "    <tr>\n",
       "      <th>3</th>\n",
       "      <td>280.799</td>\n",
       "      <td>-1.16110</td>\n",
       "      <td>1.0</td>\n",
       "      <td>2.0</td>\n",
       "      <td>41.63</td>\n",
       "      <td>3.0</td>\n",
       "      <td>2.0</td>\n",
       "      <td>0.0</td>\n",
       "      <td>0.731770</td>\n",
       "      <td>Drug-like</td>\n",
       "      <td>Drug-like</td>\n",
       "      <td>NaN</td>\n",
       "      <td>NaN</td>\n",
       "    </tr>\n",
       "    <tr>\n",
       "      <th>4</th>\n",
       "      <td>248.257</td>\n",
       "      <td>2.14680</td>\n",
       "      <td>2.0</td>\n",
       "      <td>0.0</td>\n",
       "      <td>40.62</td>\n",
       "      <td>1.0</td>\n",
       "      <td>1.0</td>\n",
       "      <td>1.0</td>\n",
       "      <td>0.714356</td>\n",
       "      <td>Drug-like</td>\n",
       "      <td>Drug-like</td>\n",
       "      <td>NaN</td>\n",
       "      <td>NaN</td>\n",
       "    </tr>\n",
       "    <tr>\n",
       "      <th>...</th>\n",
       "      <td>...</td>\n",
       "      <td>...</td>\n",
       "      <td>...</td>\n",
       "      <td>...</td>\n",
       "      <td>...</td>\n",
       "      <td>...</td>\n",
       "      <td>...</td>\n",
       "      <td>...</td>\n",
       "      <td>...</td>\n",
       "      <td>...</td>\n",
       "      <td>...</td>\n",
       "      <td>...</td>\n",
       "      <td>...</td>\n",
       "    </tr>\n",
       "    <tr>\n",
       "      <th>99875</th>\n",
       "      <td>262.302</td>\n",
       "      <td>0.01120</td>\n",
       "      <td>6.0</td>\n",
       "      <td>2.0</td>\n",
       "      <td>77.38</td>\n",
       "      <td>3.0</td>\n",
       "      <td>0.0</td>\n",
       "      <td>0.0</td>\n",
       "      <td>0.745917</td>\n",
       "      <td>Drug-like</td>\n",
       "      <td>Drug-like</td>\n",
       "      <td>NaN</td>\n",
       "      <td>NaN</td>\n",
       "    </tr>\n",
       "    <tr>\n",
       "      <th>99876</th>\n",
       "      <td>218.256</td>\n",
       "      <td>0.31740</td>\n",
       "      <td>4.0</td>\n",
       "      <td>0.0</td>\n",
       "      <td>40.16</td>\n",
       "      <td>2.0</td>\n",
       "      <td>0.0</td>\n",
       "      <td>2.0</td>\n",
       "      <td>0.494069</td>\n",
       "      <td>Drug-like</td>\n",
       "      <td>Drug-like</td>\n",
       "      <td>NaN</td>\n",
       "      <td>NaN</td>\n",
       "    </tr>\n",
       "    <tr>\n",
       "      <th>99877</th>\n",
       "      <td>670.848</td>\n",
       "      <td>2.97110</td>\n",
       "      <td>9.0</td>\n",
       "      <td>5.0</td>\n",
       "      <td>158.69</td>\n",
       "      <td>14.0</td>\n",
       "      <td>2.0</td>\n",
       "      <td>0.0</td>\n",
       "      <td>0.203831</td>\n",
       "      <td>Drug-like</td>\n",
       "      <td>Not Drug-like</td>\n",
       "      <td>NaN</td>\n",
       "      <td>NaN</td>\n",
       "    </tr>\n",
       "    <tr>\n",
       "      <th>99878</th>\n",
       "      <td>113.204</td>\n",
       "      <td>1.53690</td>\n",
       "      <td>1.0</td>\n",
       "      <td>1.0</td>\n",
       "      <td>12.03</td>\n",
       "      <td>0.0</td>\n",
       "      <td>0.0</td>\n",
       "      <td>0.0</td>\n",
       "      <td>0.502149</td>\n",
       "      <td>Drug-like</td>\n",
       "      <td>Drug-like</td>\n",
       "      <td>NaN</td>\n",
       "      <td>NaN</td>\n",
       "    </tr>\n",
       "    <tr>\n",
       "      <th>99879</th>\n",
       "      <td>405.626</td>\n",
       "      <td>7.20090</td>\n",
       "      <td>1.0</td>\n",
       "      <td>2.0</td>\n",
       "      <td>36.02</td>\n",
       "      <td>2.0</td>\n",
       "      <td>2.0</td>\n",
       "      <td>0.0</td>\n",
       "      <td>0.544251</td>\n",
       "      <td>Drug-like</td>\n",
       "      <td>Drug-like</td>\n",
       "      <td>NaN</td>\n",
       "      <td>NaN</td>\n",
       "    </tr>\n",
       "  </tbody>\n",
       "</table>\n",
       "<p>99880 rows × 13 columns</p>\n",
       "</div>"
      ],

      "text/plain": [
       "0.5741030195652921"
      ]
     },
     "execution_count": 17,
     "metadata": {},
     "output_type": "execute_result"
    }
   ],
   "source": [
    "# mean QED for rows that pass Veber test\n",
    "drug = df[df['Veber'] == 'Drug-like']\n",
    "drug['QED'].mean()"
   ]
  },
  {
   "cell_type": "code",

   "execution_count": 12,
   "id": "6da34cdd",
   "metadata": {},
   "outputs": [],
   "source": [
    "# Create new Ghose feature as a list\n",
    "gho = []\n",
    "for i in range(0, len(df)):\n",
    "    gho.append(ghose(df.loc[i,'ALOGP'], df.loc[i,'MW'], df.loc[i,'MR'], df.loc[i,'ATOM']))"
   ]
  },
  {
   "cell_type": "code",
   "execution_count": 13,
   "id": "fc821daa",
   "metadata": {},
   "outputs": [
    {
     "data": {
      "text/html": [
       "<div>\n",
       "<style scoped>\n",
       "    .dataframe tbody tr th:only-of-type {\n",
       "        vertical-align: middle;\n",
       "    }\n",
       "\n",
       "    .dataframe tbody tr th {\n",
       "        vertical-align: top;\n",
       "    }\n",
       "\n",
       "    .dataframe thead th {\n",
       "        text-align: right;\n",
       "    }\n",
       "</style>\n",
       "<table border=\"1\" class=\"dataframe\">\n",
       "  <thead>\n",
       "    <tr style=\"text-align: right;\">\n",
       "      <th></th>\n",
       "      <th>MW</th>\n",
       "      <th>ALOGP</th>\n",
       "      <th>HBA</th>\n",
       "      <th>HBD</th>\n",
       "      <th>PSA</th>\n",
       "      <th>ROTB</th>\n",
       "      <th>AROM</th>\n",
       "      <th>ALERTS</th>\n",
       "      <th>QED</th>\n",
       "      <th>Lipinski</th>\n",
       "      <th>Veber</th>\n",
       "      <th>MR</th>\n",
       "      <th>ATOM</th>\n",
       "      <th>Ghose</th>\n",
       "    </tr>\n",
       "  </thead>\n",
       "  <tbody>\n",
       "    <tr>\n",
       "      <th>0</th>\n",
       "      <td>385.329</td>\n",
       "      <td>-3.33260</td>\n",
       "      <td>11.0</td>\n",
       "      <td>4.0</td>\n",
       "      <td>171.16</td>\n",
       "      <td>3.0</td>\n",
       "      <td>0.0</td>\n",
       "      <td>1.0</td>\n",
       "      <td>0.358060</td>\n",
       "      <td>Drug-like</td>\n",
       "      <td>Not Drug-like</td>\n",
       "      <td>NaN</td>\n",
       "      <td>NaN</td>\n",
       "      <td>Not Drug-like</td>\n",
       "    </tr>\n",
       "    <tr>\n",
       "      <th>1</th>\n",
       "      <td>328.543</td>\n",
       "      <td>5.55762</td>\n",
       "      <td>3.0</td>\n",
       "      <td>0.0</td>\n",
       "      <td>34.14</td>\n",
       "      <td>11.0</td>\n",
       "      <td>1.0</td>\n",
       "      <td>2.0</td>\n",
       "      <td>0.393888</td>\n",
       "      <td>Drug-like</td>\n",
       "      <td>Not Drug-like</td>\n",
       "      <td>NaN</td>\n",
       "      <td>NaN</td>\n",
       "      <td>Drug-like</td>\n",
       "    </tr>\n",
       "    <tr>\n",
       "      <th>2</th>\n",
       "      <td>404.151</td>\n",
       "      <td>-7.82110</td>\n",
       "      <td>5.0</td>\n",
       "      <td>3.0</td>\n",
       "      <td>118.28</td>\n",
       "      <td>4.0</td>\n",
       "      <td>0.0</td>\n",
       "      <td>1.0</td>\n",
       "      <td>0.402707</td>\n",
       "      <td>Drug-like</td>\n",
       "      <td>Drug-like</td>\n",
       "      <td>NaN</td>\n",
       "      <td>NaN</td>\n",
       "      <td>Not Drug-like</td>\n",
       "    </tr>\n",
       "    <tr>\n",
       "      <th>3</th>\n",
       "      <td>280.799</td>\n",
       "      <td>-1.16110</td>\n",
       "      <td>1.0</td>\n",
       "      <td>2.0</td>\n",
       "      <td>41.63</td>\n",
       "      <td>3.0</td>\n",
       "      <td>2.0</td>\n",
       "      <td>0.0</td>\n",
       "      <td>0.731770</td>\n",
       "      <td>Drug-like</td>\n",
       "      <td>Drug-like</td>\n",
       "      <td>NaN</td>\n",
       "      <td>NaN</td>\n",
       "      <td>Not Drug-like</td>\n",
       "    </tr>\n",
       "    <tr>\n",
       "      <th>4</th>\n",
       "      <td>248.257</td>\n",
       "      <td>2.14680</td>\n",
       "      <td>2.0</td>\n",
       "      <td>0.0</td>\n",
       "      <td>40.62</td>\n",
       "      <td>1.0</td>\n",
       "      <td>1.0</td>\n",
       "      <td>1.0</td>\n",
       "      <td>0.714356</td>\n",
       "      <td>Drug-like</td>\n",
       "      <td>Drug-like</td>\n",
       "      <td>NaN</td>\n",
       "      <td>NaN</td>\n",
       "      <td>Drug-like</td>\n",
       "    </tr>\n",
       "    <tr>\n",
       "      <th>...</th>\n",
       "      <td>...</td>\n",
       "      <td>...</td>\n",
       "      <td>...</td>\n",
       "      <td>...</td>\n",
       "      <td>...</td>\n",
       "      <td>...</td>\n",
       "      <td>...</td>\n",
       "      <td>...</td>\n",
       "      <td>...</td>\n",
       "      <td>...</td>\n",
       "      <td>...</td>\n",
       "      <td>...</td>\n",
       "      <td>...</td>\n",
       "      <td>...</td>\n",
       "    </tr>\n",
       "    <tr>\n",
       "      <th>99875</th>\n",
       "      <td>262.302</td>\n",
       "      <td>0.01120</td>\n",
       "      <td>6.0</td>\n",
       "      <td>2.0</td>\n",
       "      <td>77.38</td>\n",
       "      <td>3.0</td>\n",
       "      <td>0.0</td>\n",
       "      <td>0.0</td>\n",
       "      <td>0.745917</td>\n",
       "      <td>Drug-like</td>\n",
       "      <td>Drug-like</td>\n",
       "      <td>NaN</td>\n",
       "      <td>NaN</td>\n",
       "      <td>Drug-like</td>\n",
       "    </tr>\n",
       "    <tr>\n",
       "      <th>99876</th>\n",
       "      <td>218.256</td>\n",
       "      <td>0.31740</td>\n",
       "      <td>4.0</td>\n",
       "      <td>0.0</td>\n",
       "      <td>40.16</td>\n",
       "      <td>2.0</td>\n",
       "      <td>0.0</td>\n",
       "      <td>2.0</td>\n",
       "      <td>0.494069</td>\n",
       "      <td>Drug-like</td>\n",
       "      <td>Drug-like</td>\n",
       "      <td>NaN</td>\n",
       "      <td>NaN</td>\n",
       "      <td>Drug-like</td>\n",
       "    </tr>\n",
       "    <tr>\n",
       "      <th>99877</th>\n",
       "      <td>670.848</td>\n",
       "      <td>2.97110</td>\n",
       "      <td>9.0</td>\n",
       "      <td>5.0</td>\n",
       "      <td>158.69</td>\n",
       "      <td>14.0</td>\n",
       "      <td>2.0</td>\n",
       "      <td>0.0</td>\n",
       "      <td>0.203831</td>\n",
       "      <td>Drug-like</td>\n",
       "      <td>Not Drug-like</td>\n",
       "      <td>NaN</td>\n",
       "      <td>NaN</td>\n",
       "      <td>Not Drug-like</td>\n",
       "    </tr>\n",
       "    <tr>\n",
       "      <th>99878</th>\n",
       "      <td>113.204</td>\n",
       "      <td>1.53690</td>\n",
       "      <td>1.0</td>\n",
       "      <td>1.0</td>\n",
       "      <td>12.03</td>\n",
       "      <td>0.0</td>\n",
       "      <td>0.0</td>\n",
       "      <td>0.0</td>\n",
       "      <td>0.502149</td>\n",
       "      <td>Drug-like</td>\n",
       "      <td>Drug-like</td>\n",
       "      <td>NaN</td>\n",
       "      <td>NaN</td>\n",
       "      <td>Not Drug-like</td>\n",
       "    </tr>\n",
       "    <tr>\n",
       "      <th>99879</th>\n",
       "      <td>405.626</td>\n",
       "      <td>7.20090</td>\n",
       "      <td>1.0</td>\n",
       "      <td>2.0</td>\n",
       "      <td>36.02</td>\n",
       "      <td>2.0</td>\n",
       "      <td>2.0</td>\n",
       "      <td>0.0</td>\n",
       "      <td>0.544251</td>\n",
       "      <td>Drug-like</td>\n",
       "      <td>Drug-like</td>\n",
       "      <td>NaN</td>\n",
       "      <td>NaN</td>\n",
       "      <td>Not Drug-like</td>\n",
       "    </tr>\n",
       "  </tbody>\n",
       "</table>\n",
       "<p>99880 rows × 14 columns</p>\n",
       "</div>"
      ],
      "text/plain": [
       "            MW    ALOGP   HBA  HBD     PSA  ROTB  AROM  ALERTS       QED  \\\n",
       "0      385.329 -3.33260  11.0  4.0  171.16   3.0   0.0     1.0  0.358060   \n",
       "1      328.543  5.55762   3.0  0.0   34.14  11.0   1.0     2.0  0.393888   \n",
       "2      404.151 -7.82110   5.0  3.0  118.28   4.0   0.0     1.0  0.402707   \n",
       "3      280.799 -1.16110   1.0  2.0   41.63   3.0   2.0     0.0  0.731770   \n",
       "4      248.257  2.14680   2.0  0.0   40.62   1.0   1.0     1.0  0.714356   \n",
       "...        ...      ...   ...  ...     ...   ...   ...     ...       ...   \n",
       "99875  262.302  0.01120   6.0  2.0   77.38   3.0   0.0     0.0  0.745917   \n",
       "99876  218.256  0.31740   4.0  0.0   40.16   2.0   0.0     2.0  0.494069   \n",
       "99877  670.848  2.97110   9.0  5.0  158.69  14.0   2.0     0.0  0.203831   \n",
       "99878  113.204  1.53690   1.0  1.0   12.03   0.0   0.0     0.0  0.502149   \n",
       "99879  405.626  7.20090   1.0  2.0   36.02   2.0   2.0     0.0  0.544251   \n",
       "\n",
       "        Lipinski          Veber  MR  ATOM          Ghose  \n",
       "0      Drug-like  Not Drug-like NaN   NaN  Not Drug-like  \n",
       "1      Drug-like  Not Drug-like NaN   NaN      Drug-like  \n",
       "2      Drug-like      Drug-like NaN   NaN  Not Drug-like  \n",
       "3      Drug-like      Drug-like NaN   NaN  Not Drug-like  \n",
       "4      Drug-like      Drug-like NaN   NaN      Drug-like  \n",
       "...          ...            ...  ..   ...            ...  \n",
       "99875  Drug-like      Drug-like NaN   NaN      Drug-like  \n",
       "99876  Drug-like      Drug-like NaN   NaN      Drug-like  \n",
       "99877  Drug-like  Not Drug-like NaN   NaN  Not Drug-like  \n",
       "99878  Drug-like      Drug-like NaN   NaN  Not Drug-like  \n",
       "99879  Drug-like      Drug-like NaN   NaN  Not Drug-like  \n",
       "\n",
       "[99880 rows x 14 columns]"
      ]
     },
     "execution_count": 13,
     "metadata": {},
     "output_type": "execute_result"
    }
   ],
   "source": [
    "# Add Ghose list to the dataframe as additional feature\n",
    "df['Ghose'] = gho\n",
    "df"
   ]
  },
  {
   "cell_type": "markdown",
   "id": "81723013",
   "metadata": {},
   "source": [
    "## Exploratory Data Analysis"
   ]
  },
  {
   "cell_type": "code",
   "execution_count": 14,
   "id": "929e0d8a",
   "metadata": {},
   "outputs": [],
   "source": [
    "# df[df['QED'] > 0.67]\n",
    "# DOCHEM=df[df['DO_CHEMISTRY'] == 'YES']\n",
    "# DOCHEM['QED'].mean()"
   ]
  },
  {
   "cell_type": "markdown",
   "id": "0cf5023d",
   "metadata": {},
   "source": [
    "### Mean QED"
   ]
  },
  {
   "cell_type": "code",
   "execution_count": 15,
   "id": "076a49b4",
   "metadata": {},
   "outputs": [
    {
     "data": {
      "text/plain": [
       "0.5227276154576835"
      ]
     },
     "execution_count": 15,
     "metadata": {},
     "output_type": "execute_result"
    }
   ],
   "source": [
    "# mean QED overall : 0.5227276154576835\n",
    "df['QED'].mean()"
   ]
  },
  {
   "cell_type": "code",
   "execution_count": 16,
   "id": "b1d9e744",
   "metadata": {},
   "outputs": [
    {
     "data": {
      "text/plain": [
       "0.14915748021691463"
      ]
     },
     "execution_count": 16,
     "metadata": {},
     "output_type": "execute_result"
    }
   ],
   "source": [
    "# mean QED for rows that fail Lipinski test : 0.14915748021691463\n",
    "not_drug = df[df['Lipinski'] == 'Not Drug-like']\n",
    "not_drug['QED'].mean()"
   ]
  },
  {
   "cell_type": "code",
   "execution_count": 17,
   "id": "086f34a0",
   "metadata": {},
   "outputs": [
    {
     "data": {
      "text/plain": [
       "0.5614149311085344"
      ]
     },
     "execution_count": 17,
     "metadata": {},
     "output_type": "execute_result"
    }
   ],
   "source": [
    "# mean QED for rows that pass Lipinski test :  0.5614149311085344\n",
    "drug = df[df['Lipinski'] == 'Drug-like']\n",
    "drug['QED'].mean()"
   ]
  },
  {
   "cell_type": "code",
   "execution_count": 18,
   "id": "c312f14c",
   "metadata": {},
   "outputs": [
    {
     "data": {
      "text/plain": [
       "0.20416751655411094"
      ]
     },
     "execution_count": 18,
     "metadata": {},
     "output_type": "execute_result"
    }
   ],
   "source": [
    "# mean QED for rows that fail Veber test : 0.20416751655411094\n",
    "not_drug = df[df['Veber'] == 'Not Drug-like']\n",
    "not_drug['QED'].mean()"
   ]
  },
  {
   "cell_type": "code",
   "execution_count": 19,
   "id": "cf5a4e0c",
   "metadata": {},
   "outputs": [
    {
     "data": {
      "text/plain": [
       "0.5741030195652921"
      ]
     },
     "execution_count": 17,
     "execution_count": 19,
     "execution_count": 17,
     "metadata": {},
     "output_type": "execute_result"
    }
   ],
   "source": [
    "# mean QED for rows that pass Veber test\n",
    "# mean QED for rows that pass Veber test : 0.5741030195652921\n",
    "# mean QED for rows that pass Veber test\n",
    "drug = df[df['Veber'] == 'Drug-like']\n",
    "drug['QED'].mean()"
   ]
  },
  {
   "cell_type": "code",
   "execution_count": 21,
   "id": "9367a133",
   "execution_count": 20,
   "id": "9367a133",
   "metadata": {},
   "outputs": [
    {
     "data": {
      "text/plain": [
       "0.32989719097163783"
      ]
     },
     "execution_count": 20,
     "metadata": {},
     "output_type": "execute_result"
    }
   ],
   "source": [
    "# mean QED for rows that fail Ghose test\n",
    "not_drug = df[df['Ghose'] == 'Not Drug-like']\n",
    "not_drug['QED'].mean()"
   ]
  },
  {
   "cell_type": "code",
   "execution_count": 21,
   "id": "c7c7f0be",
   "execution_count": 21,
   "id": "9367a133",
   "metadata": {},
   "outputs": [
    {
     "data": {
      "text/plain": [
       "array([[<AxesSubplot:title={'center':'QED'}>]], dtype=object)"
      ]
     },
     "execution_count": 21,
     "metadata": {},
     "output_type": "execute_result"
    }
   ],
   "source": [
    "# mean QED for rows that pass Ghose test\n",
    "drug = df[df['Ghose'] == 'Drug-like']\n",
    "drug['QED'].mean()"
   ]
  },
  {
   "cell_type": "markdown",
   "id": "50c34059",
   "metadata": {},
   "source": [
    "### Comparing Lipinski, Veber, and Ghose"
   ]
  },
  {
   "cell_type": "code",
   "execution_count": 22,
   "id": "35ff00ee",
   "metadata": {},
   "outputs": [],
   "source": [
    "lip_count = df['Lipinski'].value_counts()\n",
    "# Drug-like        90507 (90.62%)\n",
    "# Not Drug-like     9373 (9.38%)"
   ]
  },
  {
   "cell_type": "code",
   "execution_count": 23,
   "id": "965732bf",
   "metadata": {},
   "outputs": [],
   "source": [
    "veb_count = df['Veber'].value_counts()\n",
    "# Drug-like        86009 (86.11%)\n",
    "# Not Drug-like    13871 (13.89%)"
   ]
  },
  {
   "cell_type": "code",
   "execution_count": 24,
   "id": "fe4b5dd5",
   "metadata": {},
   "outputs": [],
   "source": [
    "# df['Ghose'].value_counts()"
   ]
  },
  {
   "cell_type": "code",
   "execution_count": 25,
   "id": "3c0c9fb1",
   "metadata": {},
   "outputs": [],
   "source": [
    "# convert to str to use boolean\n",
    "df['Lipinski'] = df['Lipinski'].astype(\"string\")\n",
    "df['Veber'] = df['Veber'].astype(\"string\")"
   ]
  },
  {
   "cell_type": "code",
   "execution_count": 26,
   "id": "5d75cb5e",
   "metadata": {},
   "outputs": [],
   "source": [
    "# number of rows where molecule is considered drug-like under both Lipinski and Veber\n",
    "lip_yes_veb_yes = df[(df['Lipinski'] == 'Drug-like') & (df['Veber'] == 'Drug-like')] # 83,459"
   ]
  },
  {
   "cell_type": "code",
   "execution_count": 27,
   "id": "89ca6205",
   "metadata": {},
   "outputs": [],
   "source": [
    "# number of rows where molecule is considered not drug-like under both Lipinski and Veber\n",
    "lip_no_veb_no = df[(df['Lipinski'] == 'Not Drug-like') & (df['Veber'] == 'Not Drug-like')] # 6,823 "
   ]
  },
  {
   "cell_type": "code",
   "execution_count": 28,
   "id": "f5e2d41c",
   "metadata": {},
   "outputs": [],
   "source": [
    "# number of rows where molecule is considered drug-like under Lipinski but not under Veber\n",
    "lip_yes_veb_no = df[(df['Lipinski'] == 'Drug-like') & (df['Veber'] == 'Not Drug-like')] # 7,048"
   ]
  },
  {
   "cell_type": "code",
   "execution_count": 29,
   "id": "51723ac2",
   "metadata": {},
   "outputs": [],
   "source": [
    "# number of rows where molecule is considered drug-like under Veber but not under Lipinski\n",
    "lip_no_veb_yes = df[(df['Lipinski'] == 'Not Drug-like') & (df['Veber'] == 'Drug-like')] # 2,550"
   ]
  },
  {
   "cell_type": "markdown",
   "id": "f34b5ba3",
   "metadata": {},
   "source": [
    "### Engineer features to count how many strikes each molecule had and identify reasons why Lipinski failed"
   ]
  },
  {
   "cell_type": "code",
   "execution_count": 30,
   "id": "d6c320ec",
   "metadata": {},
   "outputs": [],
   "source": [
    "# Split data based on whether Lipinski passed or failed\n",
    "passed_lip = df[df['Lipinski'] == 'Drug-like'].reset_index()\n",
    "failed_lip = df[df['Lipinski'] == 'Not Drug-like'].reset_index()"
   ]
  },
  {
   "cell_type": "code",
   "execution_count": 31,
   "id": "02b99b4c",
   "metadata": {},
   "outputs": [],
   "source": [
    "# Create function to count number of strikes\n",
    "\n",
    "def strike_ct(MW, ALOGP, HBD, HBA):\n",
    "    strike = 0\n",
    "    if MW > 500:\n",
    "        strike = strike + 1\n",
    "    if ALOGP > 5:\n",
    "        strike = strike + 1\n",
    "    if HBD > 5:\n",
    "        strike = strike + 1\n",
    "    if HBA > 10:\n",
    "        strike = strike + 1\n",
    "    return strike"
   ]
  },
  {
   "cell_type": "code",
   "execution_count": 32,
   "id": "bc5df8e6",
   "metadata": {
    "scrolled": true
   },
   "outputs": [],
   "source": [
    "# function to identify which criteria was violated (if any) if Lipinski passed\n",
    "\n",
    "def passed_lip_violation(MW, ALOGP, HBD, HBA):\n",
    "    strike = 0\n",
    "    if MW > 500:\n",
    "        strike = strike + 1\n",
    "        if strike == 1:\n",
    "            return 'High MW'\n",
    "    if ALOGP > 5:\n",
    "        strike = strike + 1\n",
    "        if strike == 1:\n",
    "            return 'High ALOGP'\n",
    "    if HBD > 5:\n",
    "        strike = strike + 1\n",
    "        if strike == 1:\n",
    "            return 'High HBD'\n",
    "    if HBA > 10:\n",
    "        strike = strike + 1\n",
    "        if strike == 1:\n",
    "            return 'High HBD'\n",
    "    if strike == 0:\n",
    "        return 'No violation'\n",
    "    \n",
    "# Add as new features to Passed Lipinski dataframe\n",
    "    \n",
    "passed_lip_lst = []\n",
    "for i in range(0, len(passed_lip)):\n",
    "    passed_lip_lst.append(passed_lip_violation(passed_lip.loc[i,'MW'], passed_lip.loc[i,'ALOGP'], passed_lip.loc[i,'HBD'], passed_lip.loc[i,'HBA']))\n",
    "    \n",
    "num_strikes = []\n",
    "for i in range(0, len(passed_lip)):\n",
    "    num_strikes.append(strike_ct(passed_lip.loc[i,'MW'], passed_lip.loc[i,'ALOGP'], passed_lip.loc[i,'HBD'], passed_lip.loc[i,'HBA']))\n",
    "\n",
    "passed_lip['Number of Lipinski Violations'] = num_strikes\n",
    "passed_lip['Lipinski Violation Reason'] = passed_lip_lst\n"
   ]
  },
  {
   "cell_type": "code",
   "execution_count": 33,
   "id": "306a3f0a",
   "metadata": {},
   "outputs": [],
   "source": [
    "# Look as distribution of violations/reasons\n",
    "\n",
    "lip_pass_reason = passed_lip['Lipinski Violation Reason'].value_counts()\n",
    "\n",
    "# No violation    76500\n",
    "# High ALOGP       9324\n",
    "# High MW          3628\n",
    "# High HBD         1055"
   ]
  },
  {
   "cell_type": "code",
   "execution_count": 34,
   "id": "798602c4",
   "metadata": {},
   "outputs": [],
   "source": [
    "# function to identify which criteria was violated for failed Lipinski\n",
    "\n",
    "def failed_lip_violation(MW, ALOGP, HBD, HBA):\n",
    "    if MW > 500 and ALOGP > 5 and HBD <= 5 and HBA <= 10:\n",
    "        return 'MW ALOGP'\n",
    "    if MW > 500 and HBD > 5 and ALOGP <= 5 and HBA <=10:\n",
    "        return 'MW HBD'\n",
    "    if MW > 500 and HBA > 10 and ALOGP <= 5 and HBD <= 5:\n",
    "        return 'MW HBA'\n",
    "    if ALOGP > 5 and HBD > 5 and MW <=500 and HBA <=10:\n",
    "        return 'ALOGP HBD'\n",
    "    if ALOGP > 5 and HBA > 10 and MW <=500 and HBD <= 5:\n",
    "        return 'ALOGP HBA'\n",
    "    if HBD > 5 and HBA > 10 and MW <= 500 and ALOGP <= 5: \n",
    "        return 'HBD HBA'\n",
    "    if MW > 500 and ALOGP > 5 and HBD > 5 and HBA <=10:\n",
    "        return 'MW ALOGP HBD' \n",
    "    if MW > 500 and ALOGP > 5 and HBA > 10 and HBD <=5:\n",
    "        return 'MW ALOGP HBA' \n",
    "    if ALOGP > 5 and HBA > 10 and HBD >5 and MW <=500:\n",
    "        return 'ALOGP HBA HBD' \n",
    "    if MW > 500 and HBA > 10 and HBD >5 and ALOGP <=5:\n",
    "        return 'MW HBA HBD'\n",
    "    if MW > 500 and ALOGP > 5 and HBD > 5 and HBA > 10:\n",
    "        return 'MW ALOGP HBD HBA'\n",
    "    \n",
    "# Add as new features to Failed Lipinski dataframe\n",
    "\n",
    "failed_lip_lst = []\n",
    "for i in range(0, len(failed_lip)):\n",
    "    failed_lip_lst.append(failed_lip_violation(failed_lip.loc[i,'MW'], failed_lip.loc[i,'ALOGP'], failed_lip.loc[i,'HBD'], failed_lip.loc[i,'HBA']))\n",
    "\n",
    "strike_count = []\n",
    "for i in range(0, len(failed_lip)):\n",
    "    strike_count.append(strike_ct(failed_lip.loc[i,'MW'], failed_lip.loc[i,'ALOGP'], failed_lip.loc[i,'HBD'], failed_lip.loc[i,'HBA']))\n",
    "\n",
    "failed_lip['Number Lipinski Strikes'] = strike_count\n",
    "failed_lip['Reason'] = failed_lip_lst\n"
   ]
  },
  {
   "cell_type": "code",
   "execution_count": 35,
   "id": "55dae067",
   "metadata": {},
   "outputs": [],
   "source": [
    "# Look at distribution of number of strikes for failed Lipinski\n",
    "\n",
    "lip_fail_ct = failed_lip['Number Lipinski Strikes'].value_counts()\n",
    "\n",
    "# 2    6671\n",
    "# 3    2442\n",
    "# 4     260"
   ]
  },
  {
   "cell_type": "code",
   "execution_count": 36,
   "id": "2e6464c9",
   "metadata": {},
   "outputs": [],
   "source": [
    "# Look at distribution of reasons for failed Lipinski\n",
    "\n",
    "lip_fail_reason = failed_lip['Reason'].value_counts()\n",
    "\n",
    "# MW ALOGP            4298\n",
    "# MW HBA HBD          1908\n",
    "# MW HBA              1387\n",
    "# MW HBD               630\n",
    "# MW ALOGP HBA         392\n",
    "# HBD HBA              352\n",
    "# MW ALOGP HBD HBA     260\n",
    "# MW ALOGP HBD         142\n",
    "# ALOGP HBD              4"
   ]
  },
  {
   "cell_type": "markdown",
   "id": "d7ccd23e",
   "metadata": {},
   "source": [
    "### Engineer features to count how many strikes each molecule had and identify reasons why Veber failed"
   ]
  },
  {
   "cell_type": "code",
   "execution_count": 37,
   "id": "be788193",
   "metadata": {},
   "outputs": [],
   "source": [
    "def veber_strike(HBD,HBA,ROTB):\n",
    "    if HBD + HBA <= 12 and ROTB <= 10:\n",
    "        strike = 0\n",
    "    if HBD + HBA <= 12 and ROTB > 10:\n",
    "        strike = 1\n",
    "    if HBD + HBA > 12 and ROTB <= 10:\n",
    "        strike = 1\n",
    "    if HBD + HBA > 12 and ROTB > 10:\n",
    "        strike = 2\n",
    "    return strike \n",
    "\n",
    "veb_strike = []\n",
    "for i in range(0, len(df)):\n",
    "    veb_strike.append(veber_strike(df.loc[i,'HBD'], df.loc[i,'HBA'], df.loc[i,'ROTB']))\n",
    "\n",
    "df['Veber Strike Count'] = veb_strike\n"
   ]
  },
  {
   "cell_type": "code",
   "execution_count": 38,
   "id": "c6c043ab",
   "metadata": {},
   "outputs": [],
   "source": [
    "def veber_violation(HBD,HBA,ROTB):\n",
    "    if HBD + HBA <= 12 and ROTB <= 10:\n",
    "        return 'No violation'\n",
    "    if HBD + HBA <= 12 and ROTB > 10:\n",
    "        return 'ROTB'\n",
    "    if HBD + HBA > 12 and ROTB <= 10:\n",
    "        return 'HBD/HBA'\n",
    "    if HBD + HBA > 12 and ROTB > 10:\n",
    "        return 'HBD/HBA ROTB'\n",
    "\n",
    "veb_violation = []\n",
    "for i in range(0, len(df)):\n",
    "    veb_violation.append(veber_violation(df.loc[i,'HBD'], df.loc[i,'HBA'], df.loc[i,'ROTB']))\n",
    "\n",
    "df['Veber Violation Reason'] = veb_violation\n"
   ]
  },
  {
   "cell_type": "code",
   "execution_count": 39,
   "id": "77b6e123",
   "metadata": {},
   "outputs": [],
   "source": [
    "veb_strike_count = df['Veber Strike Count'].value_counts()\n",
    "\n",
    "# 0    86009\n",
    "# 1    10587\n",
    "# 2     3284"
   ]
  },
  {
   "cell_type": "code",
   "execution_count": 40,
   "id": "95bf3b08",
   "metadata": {},
   "outputs": [],
   "source": [
    "veb_fail_reason = df['Veber Violation Reason'].value_counts()\n",
    "\n",
    "# No violation    86009\n",
    "# ROTB             6817\n",
    "# HBD/HBA          3770\n",
    "# HBD/HBA ROTB     3284\n"
   ]
  },
  {
   "cell_type": "markdown",
   "id": "42ce6b5b",
   "metadata": {},
   "source": [
    "## Data Visualization"
   ]
  },
  {
   "cell_type": "markdown",
   "id": "9b04c568",
   "metadata": {},
   "source": [
    "### Distribution of features"
   ]
  },
  {
   "cell_type": "code",
   "execution_count": 41,
   "id": "47635ba2",
   "metadata": {},
   "outputs": [],
   "source": [
    "cols = ['MW', 'ALOGP', 'HBA', 'HBD', 'ROTB']\n",
    "cols_means = df[cols].mean()\n",
    "\n",
    "# MW       339.565039\n",
    "# ALOGP      2.663601\n",
    "# HBA        4.242471\n",
    "# HBD        1.466690\n",
    "# ROTB       5.135953"
   ]
  },
  {
   "cell_type": "code",
   "execution_count": 42,
   "id": "d26a5673",
   "metadata": {},
   "outputs": [
    {
     "data": {
      "text/plain": [
       "<AxesSubplot:title={'center':'QED distribution'}, ylabel='Frequency'>"
      ]
     },
     "execution_count": 42,
     "metadata": {},
     "output_type": "execute_result"
    },
    {
     "data": {
      "image/png": "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\n",
      "text/plain": [
       "<Figure size 432x288 with 1 Axes>"
      ]
     },
     "metadata": {
      "needs_background": "light"
     },
     "output_type": "display_data"
    }
   ],
   "source": [
    "df['QED'].plot.hist(title = 'QED distribution')"
   ]
  },
  {
   "cell_type": "code",
   "execution_count": 43,
   "id": "81fd0767",
   "metadata": {},
   "outputs": [],
   "source": [
    "df['Lipinski'] = df['Lipinski'].astype(object)\n",
    "df['Veber'] = df['Veber'].astype(object)"
   ]
  },
  {
   "cell_type": "code",
   "execution_count": 44,
   "id": "c275d37e",
   "metadata": {},
   "outputs": [
    {
     "data": {
      "text/plain": [
       "<AxesSubplot:title={'center':'Lipinski Pass vs Fail'}>"
      ]
     },
     "execution_count": 44,
     "metadata": {},
     "output_type": "execute_result"
    },
    {
     "data": {
      "image/png": "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\n",
      "text/plain": [
       "<Figure size 432x288 with 1 Axes>"
      ]
     },
     "metadata": {
      "needs_background": "light"
     },
     "output_type": "display_data"
    }
   ],
   "source": [
    "df['Lipinski'].value_counts().plot(kind = 'bar', title = \"Lipinski Pass vs Fail\")"
   ]
  },
  {
   "cell_type": "code",
   "execution_count": 45,
   "id": "d5046862",
   "metadata": {},
   "outputs": [
    {
     "data": {
      "text/plain": [
       "<AxesSubplot:title={'center':'Veber Pass vs Fail'}>"
      ]
     },
     "execution_count": 45,
     "metadata": {},
     "output_type": "execute_result"
    },
    {
     "data": {
      "image/png": "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\n",
      "text/plain": [
       "<Figure size 432x288 with 1 Axes>"
      ]
     },
     "metadata": {
      "needs_background": "light"
     },
     "output_type": "display_data"
    }
   ],
   "source": [
    "df['Veber'].value_counts().plot(kind = 'bar', title = 'Veber Pass vs Fail')"
   ]
  },
  {
   "cell_type": "code",
   "execution_count": 46,
   "id": "951304c5",
   "metadata": {},
   "outputs": [
    {
     "data": {
      "image/png": "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\n",
      "text/plain": [
       "<Figure size 432x288 with 1 Axes>"
      ]
     },
     "metadata": {
      "needs_background": "light"
     },
     "output_type": "display_data"
    }
   ],
   "source": [
    "side_by_side = pd.DataFrame({'Lipinski': lip_count,\n",
    "                   'Veber': veb_count})\n",
    "\n",
    "ax = side_by_side.plot.bar(rot=0, title = 'Difference in Drug Likeness Between Lipinski and Veber')"
   ]
  },
  {
   "cell_type": "code",
   "execution_count": 47,
   "id": "ebabd769",
   "metadata": {},
   "outputs": [
    {
     "data": {
      "text/plain": [
       "<AxesSubplot:title={'center':'Distribution of criteria violated when Lipinski passes'}>"
      ]
     },
     "execution_count": 47,
     "metadata": {},
     "output_type": "execute_result"
    },
    {
     "data": {
      "image/png": "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\n",
      "text/plain": [
       "<Figure size 432x288 with 1 Axes>"
      ]
     },
     "metadata": {
      "needs_background": "light"
     },
     "output_type": "display_data"
    }
   ],
   "source": [
    "lip_pass_reason.plot(kind = 'bar', title = 'Distribution of criteria violated when Lipinski passes')"
   ]
  },
  {
   "cell_type": "code",
   "execution_count": 48,
   "id": "1cea0220",
   "metadata": {},
   "outputs": [
    {
     "data": {
      "text/plain": [
       "<AxesSubplot:title={'center':'Number of criteria violated when Lipinski fails'}>"
      ]
     },
     "execution_count": 48,
     "metadata": {},
     "output_type": "execute_result"
    },
    {
     "data": {
      "image/png": "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\n",
      "text/plain": [
       "<Figure size 432x288 with 1 Axes>"
      ]
     },
     "metadata": {
      "needs_background": "light"
     },
     "output_type": "display_data"
    }
   ],
   "source": [
    "lip_fail_ct.plot(kind = 'bar', title = 'Number of criteria violated when Lipinski fails')"
   ]
  },
  {
   "cell_type": "code",
   "execution_count": 49,
   "id": "8d30652c",
   "metadata": {},
   "outputs": [
    {
     "data": {
      "text/plain": [
       "<AxesSubplot:title={'center':'Where criteria is most commonly violated when Lipinski fails'}>"
      ]
     },
     "execution_count": 49,
     "metadata": {},
     "output_type": "execute_result"
    },
    {
     "data": {
      "image/png": "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\n",
      "text/plain": [
       "<Figure size 432x288 with 1 Axes>"
      ]
     },
     "metadata": {
      "needs_background": "light"
     },
     "output_type": "display_data"
    }
   ],
   "source": [
    "lip_fail_reason.plot(kind = 'bar', title = 'Where criteria is most commonly violated when Lipinski fails')"
   ]
  },
  {
   "cell_type": "code",
   "execution_count": 50,
   "id": "69f88461",
   "metadata": {},
   "outputs": [
    {
     "data": {
      "text/plain": [
       "<AxesSubplot:title={'center':'Distribution of criteria violated under Veber'}>"
      ]
     },
     "execution_count": 50,
     "metadata": {},
     "output_type": "execute_result"
    },
    {
     "data": {
      "image/png": "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\n",
      "text/plain": [
       "<Figure size 432x288 with 1 Axes>"
      ]
     },
     "metadata": {
      "needs_background": "light"
     },
     "output_type": "display_data"
    }
   ],
   "source": [
    "veb_strike_count.plot(kind = 'bar', title = 'Distribution of criteria violated under Veber')"
   ]
  },
  {
   "cell_type": "code",
   "execution_count": 51,
   "id": "9902176a",

   "metadata": {},
   "outputs": [
    {
     "data": {
      "text/plain": [
       "array([[<AxesSubplot:title={'center':'QED'}>]], dtype=object)"
      ]
     },
     "execution_count": 21,
     "metadata": {},
     "output_type": "execute_result"
    },
  

     "metadata": {
      "needs_background": "light"
     },
     "output_type": "display_data"
    }
   ],
   "source": [

    "veb_fail_reason.plot(kind = 'bar', title = 'Distribution of which criteria is violated when Veber fails')"
   ]
  }
 ],
 "metadata": {
  "kernelspec": {
   "display_name": "Python 3 (ipykernel)",
   "language": "python",
   "name": "python3"
  },
  "language_info": {
   "codemirror_mode": {
    "name": "ipython",
    "version": 3
   },
   "file_extension": ".py",
   "mimetype": "text/x-python",
   "name": "python",
   "nbconvert_exporter": "python",
   "pygments_lexer": "ipython3",
   "version": "3.9.7"
  }
 },
 "nbformat": 4,
 "nbformat_minor": 5
}
